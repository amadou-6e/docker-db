{
    "cells": [
        {
            "cell_type": "markdown",
            "metadata": {},
            "source": [
                "# MSSQLDB Manager Usage Examples\n",
                "\n",
                "This notebook demonstrates how to use the `MSSQLDB` manager class to create, manage, and interact with a Microsoft SQL Server database in a Docker container. We'll use Python and SQL cell magic to showcase the package functionality."
            ]
        },
        {
            "cell_type": "markdown",
            "metadata": {},
            "source": [
                "## Setup\n",
                "\n",
                "### Install Required Packages"
            ]
        },
        {
            "cell_type": "code",
            "execution_count": null,
            "metadata": {},
            "outputs": [
                {
                    "name": "stdout",
                    "output_type": "stream",
                    "text": [
                        "Requirement already satisfied: ipython-sql==0.5.0 in c:\\users\\acisse\\onedrive - bridgingit-gruppe\\003_codeworkspace\\003_private\\duplicateworkspaces\\docker-db\\.venv\\lib\\site-packages (0.5.0)\n",
                        "Collecting ipython-sqlcmd\n",
                        "  Using cached ipython_sqlcmd-0.1.3-py3-none-any.whl.metadata (4.4 kB)\n",
                        "Requirement already satisfied: py-dockerdb in c:\\users\\acisse\\onedrive - bridgingit-gruppe\\003_codeworkspace\\003_private\\duplicateworkspaces\\docker-db\\.venv\\lib\\site-packages (0.3.0)\n",
                        "Requirement already satisfied: pyodbc in c:\\users\\acisse\\onedrive - bridgingit-gruppe\\003_codeworkspace\\003_private\\duplicateworkspaces\\docker-db\\.venv\\lib\\site-packages (5.2.0)\n",
                        "Requirement already satisfied: prettytable==3.8.0 in c:\\users\\acisse\\onedrive - bridgingit-gruppe\\003_codeworkspace\\003_private\\duplicateworkspaces\\docker-db\\.venv\\lib\\site-packages (3.8.0)\n",
                        "Requirement already satisfied: ipython in c:\\users\\acisse\\onedrive - bridgingit-gruppe\\003_codeworkspace\\003_private\\duplicateworkspaces\\docker-db\\.venv\\lib\\site-packages (from ipython-sql==0.5.0) (9.2.0)\n",
                        "Requirement already satisfied: sqlalchemy>=2.0 in c:\\users\\acisse\\onedrive - bridgingit-gruppe\\003_codeworkspace\\003_private\\duplicateworkspaces\\docker-db\\.venv\\lib\\site-packages (from ipython-sql==0.5.0) (2.0.41)\n",
                        "Requirement already satisfied: sqlparse in c:\\users\\acisse\\onedrive - bridgingit-gruppe\\003_codeworkspace\\003_private\\duplicateworkspaces\\docker-db\\.venv\\lib\\site-packages (from ipython-sql==0.5.0) (0.5.3)\n",
                        "Requirement already satisfied: six in c:\\users\\acisse\\onedrive - bridgingit-gruppe\\003_codeworkspace\\003_private\\duplicateworkspaces\\docker-db\\.venv\\lib\\site-packages (from ipython-sql==0.5.0) (1.17.0)\n",
                        "Requirement already satisfied: ipython-genutils in c:\\users\\acisse\\onedrive - bridgingit-gruppe\\003_codeworkspace\\003_private\\duplicateworkspaces\\docker-db\\.venv\\lib\\site-packages (from ipython-sql==0.5.0) (0.2.0)\n",
                        "Requirement already satisfied: wcwidth in c:\\users\\acisse\\onedrive - bridgingit-gruppe\\003_codeworkspace\\003_private\\duplicateworkspaces\\docker-db\\.venv\\lib\\site-packages (from prettytable==3.8.0) (0.2.13)\n",
                        "Collecting pandas>=1.0.0 (from ipython-sqlcmd)\n",
                        "  Using cached pandas-2.2.3-cp312-cp312-win_amd64.whl.metadata (19 kB)\n",
                        "Requirement already satisfied: psycopg2-binary in c:\\users\\acisse\\onedrive - bridgingit-gruppe\\003_codeworkspace\\003_private\\duplicateworkspaces\\docker-db\\.venv\\lib\\site-packages (from py-dockerdb) (2.9.10)\n",
                        "Requirement already satisfied: docker in c:\\users\\acisse\\onedrive - bridgingit-gruppe\\003_codeworkspace\\003_private\\duplicateworkspaces\\docker-db\\.venv\\lib\\site-packages (from py-dockerdb) (7.1.0)\n",
                        "Requirement already satisfied: pytest in c:\\users\\acisse\\onedrive - bridgingit-gruppe\\003_codeworkspace\\003_private\\duplicateworkspaces\\docker-db\\.venv\\lib\\site-packages (from py-dockerdb) (8.3.5)\n",
                        "Requirement already satisfied: pymongo in c:\\users\\acisse\\onedrive - bridgingit-gruppe\\003_codeworkspace\\003_private\\duplicateworkspaces\\docker-db\\.venv\\lib\\site-packages (from py-dockerdb) (4.13.0)\n",
                        "Requirement already satisfied: pydantic in c:\\users\\acisse\\onedrive - bridgingit-gruppe\\003_codeworkspace\\003_private\\duplicateworkspaces\\docker-db\\.venv\\lib\\site-packages (from py-dockerdb) (2.11.4)\n",
                        "Requirement already satisfied: setuptools in c:\\users\\acisse\\onedrive - bridgingit-gruppe\\003_codeworkspace\\003_private\\duplicateworkspaces\\docker-db\\.venv\\lib\\site-packages (from py-dockerdb) (80.7.1)\n",
                        "Requirement already satisfied: mysql-connector-python in c:\\users\\acisse\\onedrive - bridgingit-gruppe\\003_codeworkspace\\003_private\\duplicateworkspaces\\docker-db\\.venv\\lib\\site-packages (from py-dockerdb) (9.3.0)\n",
                        "Requirement already satisfied: pydos2unix in c:\\users\\acisse\\onedrive - bridgingit-gruppe\\003_codeworkspace\\003_private\\duplicateworkspaces\\docker-db\\.venv\\lib\\site-packages (from py-dockerdb) (0.0.1)\n",
                        "Requirement already satisfied: colorama in c:\\users\\acisse\\onedrive - bridgingit-gruppe\\003_codeworkspace\\003_private\\duplicateworkspaces\\docker-db\\.venv\\lib\\site-packages (from ipython->ipython-sql==0.5.0) (0.4.6)\n",
                        "Requirement already satisfied: decorator in c:\\users\\acisse\\onedrive - bridgingit-gruppe\\003_codeworkspace\\003_private\\duplicateworkspaces\\docker-db\\.venv\\lib\\site-packages (from ipython->ipython-sql==0.5.0) (5.2.1)\n",
                        "Requirement already satisfied: ipython-pygments-lexers in c:\\users\\acisse\\onedrive - bridgingit-gruppe\\003_codeworkspace\\003_private\\duplicateworkspaces\\docker-db\\.venv\\lib\\site-packages (from ipython->ipython-sql==0.5.0) (1.1.1)\n",
                        "Requirement already satisfied: jedi>=0.16 in c:\\users\\acisse\\onedrive - bridgingit-gruppe\\003_codeworkspace\\003_private\\duplicateworkspaces\\docker-db\\.venv\\lib\\site-packages (from ipython->ipython-sql==0.5.0) (0.19.2)\n",
                        "Requirement already satisfied: matplotlib-inline in c:\\users\\acisse\\onedrive - bridgingit-gruppe\\003_codeworkspace\\003_private\\duplicateworkspaces\\docker-db\\.venv\\lib\\site-packages (from ipython->ipython-sql==0.5.0) (0.1.7)\n",
                        "Requirement already satisfied: prompt_toolkit<3.1.0,>=3.0.41 in c:\\users\\acisse\\onedrive - bridgingit-gruppe\\003_codeworkspace\\003_private\\duplicateworkspaces\\docker-db\\.venv\\lib\\site-packages (from ipython->ipython-sql==0.5.0) (3.0.51)\n",
                        "Requirement already satisfied: pygments>=2.4.0 in c:\\users\\acisse\\onedrive - bridgingit-gruppe\\003_codeworkspace\\003_private\\duplicateworkspaces\\docker-db\\.venv\\lib\\site-packages (from ipython->ipython-sql==0.5.0) (2.19.1)\n",
                        "Requirement already satisfied: stack_data in c:\\users\\acisse\\onedrive - bridgingit-gruppe\\003_codeworkspace\\003_private\\duplicateworkspaces\\docker-db\\.venv\\lib\\site-packages (from ipython->ipython-sql==0.5.0) (0.6.3)\n",
                        "Requirement already satisfied: traitlets>=5.13.0 in c:\\users\\acisse\\onedrive - bridgingit-gruppe\\003_codeworkspace\\003_private\\duplicateworkspaces\\docker-db\\.venv\\lib\\site-packages (from ipython->ipython-sql==0.5.0) (5.14.3)\n",
                        "Collecting numpy>=1.26.0 (from pandas>=1.0.0->ipython-sqlcmd)\n",
                        "  Downloading numpy-2.2.6-cp312-cp312-win_amd64.whl.metadata (60 kB)\n",
                        "Requirement already satisfied: python-dateutil>=2.8.2 in c:\\users\\acisse\\onedrive - bridgingit-gruppe\\003_codeworkspace\\003_private\\duplicateworkspaces\\docker-db\\.venv\\lib\\site-packages (from pandas>=1.0.0->ipython-sqlcmd) (2.9.0.post0)\n",
                        "Collecting pytz>=2020.1 (from pandas>=1.0.0->ipython-sqlcmd)\n",
                        "  Using cached pytz-2025.2-py2.py3-none-any.whl.metadata (22 kB)\n",
                        "Collecting tzdata>=2022.7 (from pandas>=1.0.0->ipython-sqlcmd)\n",
                        "  Using cached tzdata-2025.2-py2.py3-none-any.whl.metadata (1.4 kB)\n",
                        "Requirement already satisfied: greenlet>=1 in c:\\users\\acisse\\onedrive - bridgingit-gruppe\\003_codeworkspace\\003_private\\duplicateworkspaces\\docker-db\\.venv\\lib\\site-packages (from sqlalchemy>=2.0->ipython-sql==0.5.0) (3.2.2)\n",
                        "Requirement already satisfied: typing-extensions>=4.6.0 in c:\\users\\acisse\\onedrive - bridgingit-gruppe\\003_codeworkspace\\003_private\\duplicateworkspaces\\docker-db\\.venv\\lib\\site-packages (from sqlalchemy>=2.0->ipython-sql==0.5.0) (4.13.2)\n",
                        "Requirement already satisfied: pywin32>=304 in c:\\users\\acisse\\onedrive - bridgingit-gruppe\\003_codeworkspace\\003_private\\duplicateworkspaces\\docker-db\\.venv\\lib\\site-packages (from docker->py-dockerdb) (310)\n",
                        "Requirement already satisfied: requests>=2.26.0 in c:\\users\\acisse\\onedrive - bridgingit-gruppe\\003_codeworkspace\\003_private\\duplicateworkspaces\\docker-db\\.venv\\lib\\site-packages (from docker->py-dockerdb) (2.32.3)\n",
                        "Requirement already satisfied: urllib3>=1.26.0 in c:\\users\\acisse\\onedrive - bridgingit-gruppe\\003_codeworkspace\\003_private\\duplicateworkspaces\\docker-db\\.venv\\lib\\site-packages (from docker->py-dockerdb) (2.4.0)\n",
                        "Requirement already satisfied: annotated-types>=0.6.0 in c:\\users\\acisse\\onedrive - bridgingit-gruppe\\003_codeworkspace\\003_private\\duplicateworkspaces\\docker-db\\.venv\\lib\\site-packages (from pydantic->py-dockerdb) (0.7.0)\n",
                        "Requirement already satisfied: pydantic-core==2.33.2 in c:\\users\\acisse\\onedrive - bridgingit-gruppe\\003_codeworkspace\\003_private\\duplicateworkspaces\\docker-db\\.venv\\lib\\site-packages (from pydantic->py-dockerdb) (2.33.2)\n",
                        "Requirement already satisfied: typing-inspection>=0.4.0 in c:\\users\\acisse\\onedrive - bridgingit-gruppe\\003_codeworkspace\\003_private\\duplicateworkspaces\\docker-db\\.venv\\lib\\site-packages (from pydantic->py-dockerdb) (0.4.0)\n",
                        "Requirement already satisfied: dnspython<3.0.0,>=1.16.0 in c:\\users\\acisse\\onedrive - bridgingit-gruppe\\003_codeworkspace\\003_private\\duplicateworkspaces\\docker-db\\.venv\\lib\\site-packages (from pymongo->py-dockerdb) (2.7.0)\n",
                        "Requirement already satisfied: iniconfig in c:\\users\\acisse\\onedrive - bridgingit-gruppe\\003_codeworkspace\\003_private\\duplicateworkspaces\\docker-db\\.venv\\lib\\site-packages (from pytest->py-dockerdb) (2.1.0)\n",
                        "Requirement already satisfied: packaging in c:\\users\\acisse\\onedrive - bridgingit-gruppe\\003_codeworkspace\\003_private\\duplicateworkspaces\\docker-db\\.venv\\lib\\site-packages (from pytest->py-dockerdb) (25.0)\n",
                        "Requirement already satisfied: pluggy<2,>=1.5 in c:\\users\\acisse\\onedrive - bridgingit-gruppe\\003_codeworkspace\\003_private\\duplicateworkspaces\\docker-db\\.venv\\lib\\site-packages (from pytest->py-dockerdb) (1.6.0)\n",
                        "Requirement already satisfied: parso<0.9.0,>=0.8.4 in c:\\users\\acisse\\onedrive - bridgingit-gruppe\\003_codeworkspace\\003_private\\duplicateworkspaces\\docker-db\\.venv\\lib\\site-packages (from jedi>=0.16->ipython->ipython-sql==0.5.0) (0.8.4)\n",
                        "Requirement already satisfied: charset-normalizer<4,>=2 in c:\\users\\acisse\\onedrive - bridgingit-gruppe\\003_codeworkspace\\003_private\\duplicateworkspaces\\docker-db\\.venv\\lib\\site-packages (from requests>=2.26.0->docker->py-dockerdb) (3.4.2)\n",
                        "Requirement already satisfied: idna<4,>=2.5 in c:\\users\\acisse\\onedrive - bridgingit-gruppe\\003_codeworkspace\\003_private\\duplicateworkspaces\\docker-db\\.venv\\lib\\site-packages (from requests>=2.26.0->docker->py-dockerdb) (3.10)\n",
                        "Requirement already satisfied: certifi>=2017.4.17 in c:\\users\\acisse\\onedrive - bridgingit-gruppe\\003_codeworkspace\\003_private\\duplicateworkspaces\\docker-db\\.venv\\lib\\site-packages (from requests>=2.26.0->docker->py-dockerdb) (2025.4.26)\n",
                        "Requirement already satisfied: executing>=1.2.0 in c:\\users\\acisse\\onedrive - bridgingit-gruppe\\003_codeworkspace\\003_private\\duplicateworkspaces\\docker-db\\.venv\\lib\\site-packages (from stack_data->ipython->ipython-sql==0.5.0) (2.2.0)\n",
                        "Requirement already satisfied: asttokens>=2.1.0 in c:\\users\\acisse\\onedrive - bridgingit-gruppe\\003_codeworkspace\\003_private\\duplicateworkspaces\\docker-db\\.venv\\lib\\site-packages (from stack_data->ipython->ipython-sql==0.5.0) (3.0.0)\n",
                        "Requirement already satisfied: pure-eval in c:\\users\\acisse\\onedrive - bridgingit-gruppe\\003_codeworkspace\\003_private\\duplicateworkspaces\\docker-db\\.venv\\lib\\site-packages (from stack_data->ipython->ipython-sql==0.5.0) (0.2.3)\n",
                        "Using cached ipython_sqlcmd-0.1.3-py3-none-any.whl (14 kB)\n",
                        "Using cached pandas-2.2.3-cp312-cp312-win_amd64.whl (11.5 MB)\n",
                        "Downloading numpy-2.2.6-cp312-cp312-win_amd64.whl (12.6 MB)\n",
                        "   ---------------------------------------- 0.0/12.6 MB ? eta -:--:--\n",
                        "   ---------- ----------------------------- 3.4/12.6 MB 20.2 MB/s eta 0:00:01\n",
                        "   -------------------------- ------------- 8.4/12.6 MB 22.6 MB/s eta 0:00:01\n",
                        "   ---------------------------------------  12.6/12.6 MB 22.5 MB/s eta 0:00:01\n",
                        "   ---------------------------------------- 12.6/12.6 MB 19.8 MB/s eta 0:00:00\n",
                        "Using cached pytz-2025.2-py2.py3-none-any.whl (509 kB)\n",
                        "Using cached tzdata-2025.2-py2.py3-none-any.whl (347 kB)\n",
                        "Installing collected packages: pytz, tzdata, numpy, pandas, ipython-sqlcmd\n",
                        "Successfully installed ipython-sqlcmd-0.1.3 numpy-2.2.6 pandas-2.2.3 pytz-2025.2 tzdata-2025.2\n"
                    ]
                },
                {
                    "name": "stderr",
                    "output_type": "stream",
                    "text": [
                        "\n",
                        "[notice] A new release of pip is available: 25.0.1 -> 25.1.1\n",
                        "[notice] To update, run: python.exe -m pip install --upgrade pip\n"
                    ]
                }
            ],
            "source": [
                "!pip install ipython-sqlcmd py-dockerdb pyodbc"
            ]
        },
        {
            "cell_type": "markdown",
            "metadata": {},
            "source": [
                "### Import Dependencies"
            ]
        },
        {
            "cell_type": "code",
            "execution_count": 42,
            "metadata": {},
            "outputs": [
                {
                    "name": "stdout",
                    "output_type": "stream",
                    "text": [
                        "The sqlcmd extension is already loaded. To reload it, use:\n",
                        "  %reload_ext sqlcmd\n"
                    ]
                }
            ],
            "source": [
                "import uuid\n",
                "from pathlib import Path\n",
                "from docker_db.mssql_db import MSSQLConfig, MSSQLDB\n",
                "\n",
                "# For SQL cell magic\n",
                "%load_ext sqlcmd"
            ]
        },
        {
            "cell_type": "markdown",
            "metadata": {},
            "source": [
                "## Creating a SQL Server Database Instance\n",
                "\n",
                "Let's create a temporary directory for our database files:"
            ]
        },
        {
            "cell_type": "code",
            "execution_count": 45,
            "metadata": {},
            "outputs": [
                {
                    "name": "stdout",
                    "output_type": "stream",
                    "text": [
                        "Created temporary directory: C:\\Users\\acisse\\AppData\\Local\\Temp\\tmp0twu9uin\n"
                    ]
                }
            ],
            "source": [
                "import tempfile\n",
                "\n",
                "# Create a temporary directory\n",
                "temp_dir = Path(tempfile.mkdtemp())\n",
                "print(f\"Created temporary directory: {temp_dir}\")"
            ]
        },
        {
            "cell_type": "markdown",
            "metadata": {},
            "source": [
                "Now, let's set up the MSSQLDB configuration:"
            ]
        },
        {
            "cell_type": "code",
            "execution_count": 46,
            "metadata": {},
            "outputs": [],
            "source": [
                "# Generate a unique container name\n",
                "container_name = f\"demo-mssql-{uuid.uuid4().hex[:8]}\"\n",
                "\n",
                "# Create a configuration for our database\n",
                "config = MSSQLConfig(\n",
                "    user=\"demouser\",\n",
                "    host=\"127.0.0.1\",               # <- for some reason, this is not working with 'localhost'\n",
                "    password=\"Demo_Pass123\",\n",
                "    database=\"demodb\",\n",
                "    sa_password=\"StrongPass123!\",\n",
                "    project_name=\"demo\",\n",
                "    workdir=temp_dir,\n",
                "    container_name=container_name,\n",
                "    retries=20,\n",
                "    delay=3,\n",
                ")\n",
                "\n",
                "# Initialize the database manager\n",
                "db_manager = MSSQLDB(config)"
            ]
        },
        {
            "cell_type": "markdown",
            "metadata": {},
            "source": [
                "## Start the Database\n",
                "\n",
                "We'll now create and start the database. This process may take a bit longer for SQL Server as it's a more resource-intensive database engine:"
            ]
        },
        {
            "cell_type": "code",
            "execution_count": 47,
            "metadata": {},
            "outputs": [
                {
                    "name": "stdout",
                    "output_type": "stream",
                    "text": [
                        "Creating database 'demodb'...\n",
                        "Database started successfully in container 'demo-mssql-3ab9f308'\n",
                        "Connection details:\n",
                        "  Host: 127.0.0.1\n",
                        "  Port: 1433\n",
                        "  User: demouser\n",
                        "  Database: demodb\n"
                    ]
                }
            ],
            "source": [
                "# Create and start the database\n",
                "db_manager.create_db()\n",
                "print(f\"Database started successfully in container '{container_name}'\")\n",
                "print(f\"Connection details:\")\n",
                "print(f\"  Host: {config.host}\")\n",
                "print(f\"  Port: {config.port}\")\n",
                "print(f\"  User: {config.user}\")\n",
                "print(f\"  Database: {config.database}\")"
            ]
        },
        {
            "cell_type": "markdown",
            "metadata": {},
            "source": [
                "## Connect and Run SQL Queries\n",
                "\n",
                "Now that our database is running, let's connect to it using SQL cell magic. For SQL Server, we'll use the ODBC connection string:"
            ]
        },
        {
            "cell_type": "code",
            "execution_count": 48,
            "metadata": {},
            "outputs": [
                {
                    "name": "stdout",
                    "output_type": "stream",
                    "text": [
                        "Connection string set: mssql+sqlcmd:///?odbc_connect=DRIVER%3D%7BODBC+Driver+17+for+SQL+Server%7D%3BSERVER%3D127.0.0.1%3BDATABASE%3Ddemodb%3BUID%3Ddemouser%3BPWD%3DDemo_Pass123%3BEncrypt%3Dyes%3BTrustServerCertificate%3Dyes%3B\n",
                        "Parsed connection info: {'server': '127.0.0.1', 'database': 'demodb', 'username': 'demouser', 'password': '***'}\n"
                    ]
                }
            ],
            "source": [
                "%sqlcmd $config.database --password $config.password --username $config.user --driver \"ODBC Driver 17 for SQL Server\"  --server $config.host"
            ]
        },
        {
            "cell_type": "markdown",
            "metadata": {},
            "source": [
                "### Creating a Table"
            ]
        },
        {
            "cell_type": "code",
            "execution_count": 49,
            "metadata": {},
            "outputs": [],
            "source": [
                "%%sqlcmd\n",
                "CREATE TABLE demo_users (\n",
                "    id INT IDENTITY(1,1) PRIMARY KEY,\n",
                "    username VARCHAR(50) UNIQUE NOT NULL,\n",
                "    email VARCHAR(100) UNIQUE,\n",
                "    created_at DATETIME DEFAULT GETDATE()\n",
                ");"
            ]
        },
        {
            "cell_type": "markdown",
            "metadata": {},
            "source": [
                "### Insert Data"
            ]
        },
        {
            "cell_type": "code",
            "execution_count": 50,
            "metadata": {},
            "outputs": [
                {
                    "name": "stdout",
                    "output_type": "stream",
                    "text": [
                        "(3 rows affected)\n"
                    ]
                }
            ],
            "source": [
                "%%sqlcmd\n",
                "INSERT INTO demo_users (username, email) VALUES\n",
                "    ('alice', 'alice@example.com'),\n",
                "    ('bob', 'bob@example.com'),\n",
                "    ('charlie', 'charlie@example.com');"
            ]
        },
        {
            "cell_type": "markdown",
            "metadata": {},
            "source": [
                "### Query Data"
            ]
        },
        {
            "cell_type": "code",
            "execution_count": 51,
            "metadata": {},
            "outputs": [
                {
                    "data": {
                        "text/html": [
                            "<div>\n",
                            "<style scoped>\n",
                            "    .dataframe tbody tr th:only-of-type {\n",
                            "        vertical-align: middle;\n",
                            "    }\n",
                            "\n",
                            "    .dataframe tbody tr th {\n",
                            "        vertical-align: top;\n",
                            "    }\n",
                            "\n",
                            "    .dataframe thead th {\n",
                            "        text-align: right;\n",
                            "    }\n",
                            "</style>\n",
                            "<table border=\"1\" class=\"dataframe\">\n",
                            "  <thead>\n",
                            "    <tr style=\"text-align: right;\">\n",
                            "      <th></th>\n",
                            "      <th>id</th>\n",
                            "      <th>username</th>\n",
                            "      <th>email</th>\n",
                            "      <th>created_at</th>\n",
                            "    </tr>\n",
                            "  </thead>\n",
                            "  <tbody>\n",
                            "    <tr>\n",
                            "      <th>0</th>\n",
                            "      <td>1</td>\n",
                            "      <td>alice</td>\n",
                            "      <td>alice@example.com</td>\n",
                            "      <td>2025-05-20 08:52:15.097</td>\n",
                            "    </tr>\n",
                            "    <tr>\n",
                            "      <th>1</th>\n",
                            "      <td>2</td>\n",
                            "      <td>bob</td>\n",
                            "      <td>bob@example.com</td>\n",
                            "      <td>2025-05-20 08:52:15.097</td>\n",
                            "    </tr>\n",
                            "    <tr>\n",
                            "      <th>2</th>\n",
                            "      <td>3</td>\n",
                            "      <td>charlie</td>\n",
                            "      <td>charlie@example.com</td>\n",
                            "      <td>2025-05-20 08:52:15.097</td>\n",
                            "    </tr>\n",
                            "  </tbody>\n",
                            "</table>\n",
                            "</div>"
                        ],
                        "text/plain": [
                            "  id username                email               created_at\n",
                            "0  1    alice    alice@example.com  2025-05-20 08:52:15.097\n",
                            "1  2      bob      bob@example.com  2025-05-20 08:52:15.097\n",
                            "2  3  charlie  charlie@example.com  2025-05-20 08:52:15.097"
                        ]
                    },
                    "metadata": {},
                    "output_type": "display_data"
                },
                {
                    "name": "stdout",
                    "output_type": "stream",
                    "text": [
                        "\n",
                        "(3 rows affected)\n"
                    ]
                }
            ],
            "source": [
                "%%sqlcmd\n",
                "SELECT * FROM demo_users;"
            ]
        },
        {
            "cell_type": "markdown",
            "metadata": {},
            "source": [
                "### Run More Complex Queries"
            ]
        },
        {
            "cell_type": "code",
            "execution_count": 52,
            "metadata": {},
            "outputs": [
                {
                    "name": "stdout",
                    "output_type": "stream",
                    "text": [
                        "(4 rows affected)\n"
                    ]
                },
                {
                    "data": {
                        "text/html": [
                            "<div>\n",
                            "<style scoped>\n",
                            "    .dataframe tbody tr th:only-of-type {\n",
                            "        vertical-align: middle;\n",
                            "    }\n",
                            "\n",
                            "    .dataframe tbody tr th {\n",
                            "        vertical-align: top;\n",
                            "    }\n",
                            "\n",
                            "    .dataframe thead th {\n",
                            "        text-align: right;\n",
                            "    }\n",
                            "</style>\n",
                            "<table border=\"1\" class=\"dataframe\">\n",
                            "  <thead>\n",
                            "    <tr style=\"text-align: right;\">\n",
                            "      <th></th>\n",
                            "      <th>username</th>\n",
                            "      <th>title</th>\n",
                            "      <th>content</th>\n",
                            "    </tr>\n",
                            "  </thead>\n",
                            "  <tbody>\n",
                            "    <tr>\n",
                            "      <th>0</th>\n",
                            "      <td>alice</td>\n",
                            "      <td>Alice First Post</td>\n",
                            "      <td>Hello world from Alice!</td>\n",
                            "    </tr>\n",
                            "    <tr>\n",
                            "      <th>1</th>\n",
                            "      <td>alice</td>\n",
                            "      <td>Alice Second Post</td>\n",
                            "      <td>Another post from Alice</td>\n",
                            "    </tr>\n",
                            "    <tr>\n",
                            "      <th>2</th>\n",
                            "      <td>bob</td>\n",
                            "      <td>Bob Introduction</td>\n",
                            "      <td>Hi, this is Bob!</td>\n",
                            "    </tr>\n",
                            "    <tr>\n",
                            "      <th>3</th>\n",
                            "      <td>charlie</td>\n",
                            "      <td>Charlie Notes</td>\n",
                            "      <td>Some notes from Charlie</td>\n",
                            "    </tr>\n",
                            "  </tbody>\n",
                            "</table>\n",
                            "</div>"
                        ],
                        "text/plain": [
                            "  username              title                  content\n",
                            "0    alice   Alice First Post  Hello world from Alice!\n",
                            "1    alice  Alice Second Post  Another post from Alice\n",
                            "2      bob   Bob Introduction         Hi, this is Bob!\n",
                            "3  charlie      Charlie Notes  Some notes from Charlie"
                        ]
                    },
                    "metadata": {},
                    "output_type": "display_data"
                },
                {
                    "name": "stdout",
                    "output_type": "stream",
                    "text": [
                        "\n",
                        "(4 rows affected)\n"
                    ]
                }
            ],
            "source": [
                "%%sqlcmd\n",
                "-- Create another table for demonstration\n",
                "CREATE TABLE demo_posts (\n",
                "    id INT IDENTITY(1,1) PRIMARY KEY,\n",
                "    user_id INT FOREIGN KEY REFERENCES demo_users(id),\n",
                "    title VARCHAR(100) NOT NULL,\n",
                "    content NVARCHAR(MAX),\n",
                "    created_at DATETIME DEFAULT GETDATE()\n",
                ");\n",
                "\n",
                "-- Insert some posts\n",
                "INSERT INTO demo_posts (user_id, title, content) VALUES\n",
                "    (1, 'Alice First Post', 'Hello world from Alice!'),\n",
                "    (1, 'Alice Second Post', 'Another post from Alice'),\n",
                "    (2, 'Bob Introduction', 'Hi, this is Bob!'),\n",
                "    (3, 'Charlie Notes', 'Some notes from Charlie');\n",
                "    \n",
                "-- Query with JOIN\n",
                "SELECT u.username, p.title, p.content\n",
                "FROM demo_users u\n",
                "JOIN demo_posts p ON u.id = p.user_id\n",
                "ORDER BY u.username, p.created_at;"
            ]
        },
        {
            "cell_type": "markdown",
            "metadata": {},
            "source": [
                "## Using Regular Python to Access the Database\n",
                "\n",
                "You can also interact with the database using Python code and pyodbc:"
            ]
        },
        {
            "cell_type": "code",
            "execution_count": 53,
            "metadata": {},
            "outputs": [
                {
                    "name": "stdout",
                    "output_type": "stream",
                    "text": [
                        "Total number of posts: 4\n",
                        "\n",
                        "Post count by user:\n",
                        "  alice: 2 posts\n",
                        "  bob: 1 posts\n",
                        "  charlie: 1 posts\n"
                    ]
                }
            ],
            "source": [
                "import pyodbc\n",
                "\n",
                "# Connect directly using our db_manager's connection property\n",
                "conn = db_manager.connection\n",
                "\n",
                "# Create a cursor\n",
                "cursor = conn.cursor()\n",
                "\n",
                "# Execute a query\n",
                "cursor.execute(\"SELECT COUNT(*) as post_count FROM demo_posts\")\n",
                "result = cursor.fetchone()\n",
                "print(f\"Total number of posts: {result[0]}\")\n",
                "\n",
                "# Group by query\n",
                "cursor.execute(\"\"\"\n",
                "    SELECT u.username, COUNT(p.id) as post_count \n",
                "    FROM demo_users u\n",
                "    LEFT JOIN demo_posts p ON u.id = p.user_id\n",
                "    GROUP BY u.username\n",
                "    ORDER BY post_count DESC\n",
                "\"\"\")\n",
                "\n",
                "print(\"\\nPost count by user:\")\n",
                "for row in cursor.fetchall():\n",
                "    print(f\"  {row[0]}: {row[1]} posts\")\n",
                "\n",
                "# Close the connection\n",
                "cursor.close()\n",
                "conn.close()"
            ]
        },
        {
            "cell_type": "markdown",
            "metadata": {},
            "source": [
                "## Using SQL Server-Specific Features\n",
                "\n",
                "Let's try some SQL Server-specific features like T-SQL stored procedures:"
            ]
        },
        {
            "cell_type": "code",
            "execution_count": 55,
            "metadata": {},
            "outputs": [],
            "source": [
                "%%sqlcmd\n",
                "-- Create a stored procedure to get post count for a specific user\n",
                "CREATE PROCEDURE GetUserPostCount\n",
                "    @username VARCHAR(50)\n",
                "AS\n",
                "BEGIN\n",
                "    SELECT u.username, COUNT(p.id) as post_count\n",
                "    FROM demo_users u\n",
                "    LEFT JOIN demo_posts p ON u.id = p.user_id\n",
                "    WHERE u.username = @username\n",
                "    GROUP BY u.username\n",
                "END;\n",
                "\n",
                "-- Execute the stored procedure\n",
                "EXEC GetUserPostCount @username = 'alice';"
            ]
        },
        {
            "cell_type": "markdown",
            "metadata": {},
            "source": [
                "## Clean Up\n",
                "\n",
                "When you're done with the database, you can delete it:"
            ]
        },
        {
            "cell_type": "code",
            "execution_count": 56,
            "metadata": {},
            "outputs": [
                {
                    "name": "stdout",
                    "output_type": "stream",
                    "text": [
                        "Database container 'demo-mssql-3ab9f308' deleted\n",
                        "Temporary directory 'C:\\Users\\acisse\\AppData\\Local\\Temp\\tmp0twu9uin' removed\n"
                    ]
                }
            ],
            "source": [
                "# Delete the database container\n",
                "db_manager.delete_db()\n",
                "print(f\"Database container '{container_name}' deleted\")\n",
                "\n",
                "# Clean up the temporary directory\n",
                "import shutil\n",
                "shutil.rmtree(temp_dir)\n",
                "print(f\"Temporary directory '{temp_dir}' removed\")"
            ]
        },
        {
            "cell_type": "markdown",
            "metadata": {},
            "source": [
                "## Conclusion\n",
                "\n",
                "This notebook demonstrated how to:\n",
                "\n",
                "1. Configure and create a Microsoft SQL Server database with `MSSQLDB`\n",
                "2. Connect to the database using SQL cell magic with pyodbc\n",
                "3. Execute SQL queries and create T-SQL stored procedures\n",
                "4. Use pyodbc with Python to interact with the database\n",
                "5. Clean up the database when finished\n",
                "\n",
                "The `MSSQLDB` manager provides a convenient way to spin up SQL Server instances in Docker containers for development, testing, or demonstration purposes.\n",
                "\n",
                "Note that SQL Server requires more resources than some other database engines, so ensure your Docker environment has sufficient memory and CPU allocated."
            ]
        }
    ],
    "metadata": {
        "kernelspec": {
            "display_name": ".venv",
            "language": "python",
            "name": "python3"
        },
        "language_info": {
            "codemirror_mode": {
                "name": "ipython",
                "version": 3
            },
            "file_extension": ".py",
            "mimetype": "text/x-python",
            "name": "python",
            "nbconvert_exporter": "python",
            "pygments_lexer": "ipython3",
            "version": "3.12.10"
        }
    },
    "nbformat": 4,
    "nbformat_minor": 4
}
