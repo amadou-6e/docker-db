{
 "cells": [
  {
   "cell_type": "markdown",
   "id": "7da36403",
   "metadata": {},
   "source": [
    "# DB Management Examples: Handling the Database State\n",
    "\n",
    "This notebooks showcase the nuances in DB management. The focus of the py-dockerdb package is on ease of use and availability of the database, which is why creating, stoping, starting and restarting the database should be stress free.\n",
    "\n",
    "## Setup \n",
    "\n",
    "### Install Required Packages"
   ]
  },
  {
   "cell_type": "code",
   "execution_count": 1,
   "id": "947c75fa",
   "metadata": {},
   "outputs": [
    {
     "name": "stdout",
     "output_type": "stream",
     "text": [
      "Requirement already satisfied: ipython-sql==0.5.0 in c:\\users\\acisse\\onedrive - bridgingit-gruppe\\003_codeworkspace\\003_private\\duplicateworkspaces\\docker-db\\.venv\\lib\\site-packages (0.5.0)\n",
      "Requirement already satisfied: py-dockerdb in c:\\users\\acisse\\onedrive - bridgingit-gruppe\\003_codeworkspace\\003_private\\duplicateworkspaces\\docker-db\\.venv\\lib\\site-packages (0.3.0)\n",
      "Requirement already satisfied: prettytable==3.8.0 in c:\\users\\acisse\\onedrive - bridgingit-gruppe\\003_codeworkspace\\003_private\\duplicateworkspaces\\docker-db\\.venv\\lib\\site-packages (3.8.0)\n",
      "Requirement already satisfied: ipython in c:\\users\\acisse\\onedrive - bridgingit-gruppe\\003_codeworkspace\\003_private\\duplicateworkspaces\\docker-db\\.venv\\lib\\site-packages (from ipython-sql==0.5.0) (9.2.0)\n",
      "Requirement already satisfied: sqlalchemy>=2.0 in c:\\users\\acisse\\onedrive - bridgingit-gruppe\\003_codeworkspace\\003_private\\duplicateworkspaces\\docker-db\\.venv\\lib\\site-packages (from ipython-sql==0.5.0) (2.0.41)\n",
      "Requirement already satisfied: sqlparse in c:\\users\\acisse\\onedrive - bridgingit-gruppe\\003_codeworkspace\\003_private\\duplicateworkspaces\\docker-db\\.venv\\lib\\site-packages (from ipython-sql==0.5.0) (0.5.3)\n",
      "Requirement already satisfied: six in c:\\users\\acisse\\onedrive - bridgingit-gruppe\\003_codeworkspace\\003_private\\duplicateworkspaces\\docker-db\\.venv\\lib\\site-packages (from ipython-sql==0.5.0) (1.17.0)\n",
      "Requirement already satisfied: ipython-genutils in c:\\users\\acisse\\onedrive - bridgingit-gruppe\\003_codeworkspace\\003_private\\duplicateworkspaces\\docker-db\\.venv\\lib\\site-packages (from ipython-sql==0.5.0) (0.2.0)\n",
      "Requirement already satisfied: wcwidth in c:\\users\\acisse\\onedrive - bridgingit-gruppe\\003_codeworkspace\\003_private\\duplicateworkspaces\\docker-db\\.venv\\lib\\site-packages (from prettytable==3.8.0) (0.2.13)\n",
      "Requirement already satisfied: psycopg2-binary in c:\\users\\acisse\\onedrive - bridgingit-gruppe\\003_codeworkspace\\003_private\\duplicateworkspaces\\docker-db\\.venv\\lib\\site-packages (from py-dockerdb) (2.9.10)\n",
      "Requirement already satisfied: docker in c:\\users\\acisse\\onedrive - bridgingit-gruppe\\003_codeworkspace\\003_private\\duplicateworkspaces\\docker-db\\.venv\\lib\\site-packages (from py-dockerdb) (7.1.0)\n",
      "Requirement already satisfied: pytest in c:\\users\\acisse\\onedrive - bridgingit-gruppe\\003_codeworkspace\\003_private\\duplicateworkspaces\\docker-db\\.venv\\lib\\site-packages (from py-dockerdb) (8.3.5)\n",
      "Requirement already satisfied: pymongo in c:\\users\\acisse\\onedrive - bridgingit-gruppe\\003_codeworkspace\\003_private\\duplicateworkspaces\\docker-db\\.venv\\lib\\site-packages (from py-dockerdb) (4.13.0)\n",
      "Requirement already satisfied: pydantic in c:\\users\\acisse\\onedrive - bridgingit-gruppe\\003_codeworkspace\\003_private\\duplicateworkspaces\\docker-db\\.venv\\lib\\site-packages (from py-dockerdb) (2.11.4)\n",
      "Requirement already satisfied: setuptools in c:\\users\\acisse\\onedrive - bridgingit-gruppe\\003_codeworkspace\\003_private\\duplicateworkspaces\\docker-db\\.venv\\lib\\site-packages (from py-dockerdb) (80.7.1)\n",
      "Requirement already satisfied: pyodbc in c:\\users\\acisse\\onedrive - bridgingit-gruppe\\003_codeworkspace\\003_private\\duplicateworkspaces\\docker-db\\.venv\\lib\\site-packages (from py-dockerdb) (5.2.0)\n",
      "Requirement already satisfied: mysql-connector-python in c:\\users\\acisse\\onedrive - bridgingit-gruppe\\003_codeworkspace\\003_private\\duplicateworkspaces\\docker-db\\.venv\\lib\\site-packages (from py-dockerdb) (9.3.0)\n",
      "Requirement already satisfied: pydos2unix in c:\\users\\acisse\\onedrive - bridgingit-gruppe\\003_codeworkspace\\003_private\\duplicateworkspaces\\docker-db\\.venv\\lib\\site-packages (from py-dockerdb) (0.0.1)\n",
      "Requirement already satisfied: greenlet>=1 in c:\\users\\acisse\\onedrive - bridgingit-gruppe\\003_codeworkspace\\003_private\\duplicateworkspaces\\docker-db\\.venv\\lib\\site-packages (from sqlalchemy>=2.0->ipython-sql==0.5.0) (3.2.2)\n",
      "Requirement already satisfied: typing-extensions>=4.6.0 in c:\\users\\acisse\\onedrive - bridgingit-gruppe\\003_codeworkspace\\003_private\\duplicateworkspaces\\docker-db\\.venv\\lib\\site-packages (from sqlalchemy>=2.0->ipython-sql==0.5.0) (4.13.2)\n",
      "Requirement already satisfied: pywin32>=304 in c:\\users\\acisse\\onedrive - bridgingit-gruppe\\003_codeworkspace\\003_private\\duplicateworkspaces\\docker-db\\.venv\\lib\\site-packages (from docker->py-dockerdb) (310)\n",
      "Requirement already satisfied: requests>=2.26.0 in c:\\users\\acisse\\onedrive - bridgingit-gruppe\\003_codeworkspace\\003_private\\duplicateworkspaces\\docker-db\\.venv\\lib\\site-packages (from docker->py-dockerdb) (2.32.3)\n",
      "Requirement already satisfied: urllib3>=1.26.0 in c:\\users\\acisse\\onedrive - bridgingit-gruppe\\003_codeworkspace\\003_private\\duplicateworkspaces\\docker-db\\.venv\\lib\\site-packages (from docker->py-dockerdb) (2.4.0)\n",
      "Requirement already satisfied: colorama in c:\\users\\acisse\\onedrive - bridgingit-gruppe\\003_codeworkspace\\003_private\\duplicateworkspaces\\docker-db\\.venv\\lib\\site-packages (from ipython->ipython-sql==0.5.0) (0.4.6)\n",
      "Requirement already satisfied: decorator in c:\\users\\acisse\\onedrive - bridgingit-gruppe\\003_codeworkspace\\003_private\\duplicateworkspaces\\docker-db\\.venv\\lib\\site-packages (from ipython->ipython-sql==0.5.0) (5.2.1)\n",
      "Requirement already satisfied: ipython-pygments-lexers in c:\\users\\acisse\\onedrive - bridgingit-gruppe\\003_codeworkspace\\003_private\\duplicateworkspaces\\docker-db\\.venv\\lib\\site-packages (from ipython->ipython-sql==0.5.0) (1.1.1)\n",
      "Requirement already satisfied: jedi>=0.16 in c:\\users\\acisse\\onedrive - bridgingit-gruppe\\003_codeworkspace\\003_private\\duplicateworkspaces\\docker-db\\.venv\\lib\\site-packages (from ipython->ipython-sql==0.5.0) (0.19.2)\n",
      "Requirement already satisfied: matplotlib-inline in c:\\users\\acisse\\onedrive - bridgingit-gruppe\\003_codeworkspace\\003_private\\duplicateworkspaces\\docker-db\\.venv\\lib\\site-packages (from ipython->ipython-sql==0.5.0) (0.1.7)\n",
      "Requirement already satisfied: prompt_toolkit<3.1.0,>=3.0.41 in c:\\users\\acisse\\onedrive - bridgingit-gruppe\\003_codeworkspace\\003_private\\duplicateworkspaces\\docker-db\\.venv\\lib\\site-packages (from ipython->ipython-sql==0.5.0) (3.0.51)\n",
      "Requirement already satisfied: pygments>=2.4.0 in c:\\users\\acisse\\onedrive - bridgingit-gruppe\\003_codeworkspace\\003_private\\duplicateworkspaces\\docker-db\\.venv\\lib\\site-packages (from ipython->ipython-sql==0.5.0) (2.19.1)\n",
      "Requirement already satisfied: stack_data in c:\\users\\acisse\\onedrive - bridgingit-gruppe\\003_codeworkspace\\003_private\\duplicateworkspaces\\docker-db\\.venv\\lib\\site-packages (from ipython->ipython-sql==0.5.0) (0.6.3)\n",
      "Requirement already satisfied: traitlets>=5.13.0 in c:\\users\\acisse\\onedrive - bridgingit-gruppe\\003_codeworkspace\\003_private\\duplicateworkspaces\\docker-db\\.venv\\lib\\site-packages (from ipython->ipython-sql==0.5.0) (5.14.3)\n",
      "Requirement already satisfied: annotated-types>=0.6.0 in c:\\users\\acisse\\onedrive - bridgingit-gruppe\\003_codeworkspace\\003_private\\duplicateworkspaces\\docker-db\\.venv\\lib\\site-packages (from pydantic->py-dockerdb) (0.7.0)\n",
      "Requirement already satisfied: pydantic-core==2.33.2 in c:\\users\\acisse\\onedrive - bridgingit-gruppe\\003_codeworkspace\\003_private\\duplicateworkspaces\\docker-db\\.venv\\lib\\site-packages (from pydantic->py-dockerdb) (2.33.2)\n",
      "Requirement already satisfied: typing-inspection>=0.4.0 in c:\\users\\acisse\\onedrive - bridgingit-gruppe\\003_codeworkspace\\003_private\\duplicateworkspaces\\docker-db\\.venv\\lib\\site-packages (from pydantic->py-dockerdb) (0.4.0)\n",
      "Requirement already satisfied: dnspython<3.0.0,>=1.16.0 in c:\\users\\acisse\\onedrive - bridgingit-gruppe\\003_codeworkspace\\003_private\\duplicateworkspaces\\docker-db\\.venv\\lib\\site-packages (from pymongo->py-dockerdb) (2.7.0)\n",
      "Requirement already satisfied: iniconfig in c:\\users\\acisse\\onedrive - bridgingit-gruppe\\003_codeworkspace\\003_private\\duplicateworkspaces\\docker-db\\.venv\\lib\\site-packages (from pytest->py-dockerdb) (2.1.0)\n",
      "Requirement already satisfied: packaging in c:\\users\\acisse\\onedrive - bridgingit-gruppe\\003_codeworkspace\\003_private\\duplicateworkspaces\\docker-db\\.venv\\lib\\site-packages (from pytest->py-dockerdb) (25.0)\n",
      "Requirement already satisfied: pluggy<2,>=1.5 in c:\\users\\acisse\\onedrive - bridgingit-gruppe\\003_codeworkspace\\003_private\\duplicateworkspaces\\docker-db\\.venv\\lib\\site-packages (from pytest->py-dockerdb) (1.6.0)\n",
      "Requirement already satisfied: parso<0.9.0,>=0.8.4 in c:\\users\\acisse\\onedrive - bridgingit-gruppe\\003_codeworkspace\\003_private\\duplicateworkspaces\\docker-db\\.venv\\lib\\site-packages (from jedi>=0.16->ipython->ipython-sql==0.5.0) (0.8.4)\n",
      "Requirement already satisfied: charset-normalizer<4,>=2 in c:\\users\\acisse\\onedrive - bridgingit-gruppe\\003_codeworkspace\\003_private\\duplicateworkspaces\\docker-db\\.venv\\lib\\site-packages (from requests>=2.26.0->docker->py-dockerdb) (3.4.2)\n",
      "Requirement already satisfied: idna<4,>=2.5 in c:\\users\\acisse\\onedrive - bridgingit-gruppe\\003_codeworkspace\\003_private\\duplicateworkspaces\\docker-db\\.venv\\lib\\site-packages (from requests>=2.26.0->docker->py-dockerdb) (3.10)\n",
      "Requirement already satisfied: certifi>=2017.4.17 in c:\\users\\acisse\\onedrive - bridgingit-gruppe\\003_codeworkspace\\003_private\\duplicateworkspaces\\docker-db\\.venv\\lib\\site-packages (from requests>=2.26.0->docker->py-dockerdb) (2025.4.26)\n",
      "Requirement already satisfied: executing>=1.2.0 in c:\\users\\acisse\\onedrive - bridgingit-gruppe\\003_codeworkspace\\003_private\\duplicateworkspaces\\docker-db\\.venv\\lib\\site-packages (from stack_data->ipython->ipython-sql==0.5.0) (2.2.0)\n",
      "Requirement already satisfied: asttokens>=2.1.0 in c:\\users\\acisse\\onedrive - bridgingit-gruppe\\003_codeworkspace\\003_private\\duplicateworkspaces\\docker-db\\.venv\\lib\\site-packages (from stack_data->ipython->ipython-sql==0.5.0) (3.0.0)\n",
      "Requirement already satisfied: pure-eval in c:\\users\\acisse\\onedrive - bridgingit-gruppe\\003_codeworkspace\\003_private\\duplicateworkspaces\\docker-db\\.venv\\lib\\site-packages (from stack_data->ipython->ipython-sql==0.5.0) (0.2.3)\n"
     ]
    },
    {
     "name": "stderr",
     "output_type": "stream",
     "text": [
      "\n",
      "[notice] A new release of pip is available: 25.0.1 -> 25.1.1\n",
      "[notice] To update, run: python.exe -m pip install --upgrade pip\n"
     ]
    }
   ],
   "source": [
    "!pip install ipython-sql==0.5.0 py-dockerdb prettytable==3.8.0"
   ]
  },
  {
   "cell_type": "markdown",
   "id": "e18e0450",
   "metadata": {},
   "source": [
    "### Import Dependencies"
   ]
  },
  {
   "cell_type": "code",
   "execution_count": 1,
   "id": "7e236bff",
   "metadata": {},
   "outputs": [],
   "source": [
    "import uuid\n",
    "from pathlib import Path\n",
    "from docker_db.postgres_db import PostgresConfig, PostgresDB\n",
    "\n",
    "# For SQL cell magic\n",
    "%load_ext sql"
   ]
  },
  {
   "cell_type": "code",
   "execution_count": 2,
   "id": "686f935f",
   "metadata": {},
   "outputs": [
    {
     "name": "stdout",
     "output_type": "stream",
     "text": [
      "Created temporary directory: C:\\Users\\acisse\\AppData\\Local\\Temp\\tmpkohx3hjv\n"
     ]
    }
   ],
   "source": [
    "import tempfile\n",
    "\n",
    "# Create a temporary directory\n",
    "temp_dir = Path(tempfile.mkdtemp())\n",
    "print(f\"Created temporary directory: {temp_dir}\")"
   ]
  },
  {
   "cell_type": "markdown",
   "id": "61c59a69",
   "metadata": {},
   "source": [
    "Now, let's set up the PostgresDB configuration:"
   ]
  },
  {
   "cell_type": "code",
   "execution_count": 3,
   "id": "61da2176",
   "metadata": {},
   "outputs": [],
   "source": [
    "# Generate a unique container name\n",
    "container_name = f\"demo-postgres-{uuid.uuid4().hex[:8]}\"\n",
    "\n",
    "# Create a configuration for our database\n",
    "config = PostgresConfig(\n",
    "    user=\"demouser\",\n",
    "    password=\"demopass\",\n",
    "    database=\"demodb\",\n",
    "    project_name=\"demo\",\n",
    "    workdir=temp_dir,\n",
    "    container_name=container_name,\n",
    "    retries=20,\n",
    "    delay=3,\n",
    ")\n",
    "\n",
    "# Initialize the database manager\n",
    "db_manager = PostgresDB(config)"
   ]
  },
  {
   "cell_type": "markdown",
   "id": "6890c1fb",
   "metadata": {},
   "source": [
    "## Creating the Database\n",
    "\n",
    "There are three parameters to consider when creating the database:\n",
    "- force: will overwrite the existing container and start it\n",
    "- exists_ok: will reuse existing containers\n",
    "- running_ok: will reuse running containers\n",
    "\n",
    "Let's start with a simple database create operation:"
   ]
  },
  {
   "cell_type": "code",
   "execution_count": 4,
   "id": "35e44c91",
   "metadata": {},
   "outputs": [
    {
     "name": "stdout",
     "output_type": "stream",
     "text": [
      "Creating database 'demodb'...\n",
      "Database started successfully in container 'demo-postgres-a4eb8266'\n",
      "Connection details:\n",
      "  Host: localhost\n",
      "  Port: 5432\n",
      "  User: demouser\n",
      "  Database: demodb\n"
     ]
    }
   ],
   "source": [
    "# Create and start the database\n",
    "db_manager.create_db(exists_ok=False, running_ok=False, force=False)\n",
    "print(f\"Database started successfully in container '{container_name}'\")\n",
    "print(f\"Connection details:\")\n",
    "print(f\"  Host: {config.host}\")\n",
    "print(f\"  Port: {config.port}\")\n",
    "print(f\"  User: {config.user}\")\n",
    "print(f\"  Database: {config.database}\")"
   ]
  },
  {
   "cell_type": "markdown",
   "id": "b8caafb4",
   "metadata": {},
   "source": [
    "### Reuse Existing Containers\n",
    "\n",
    "We can reuse existing containers, when specifying exists_ok=True. If running_ok=False, however, it is expected for the container to be stopped."
   ]
  },
  {
   "cell_type": "code",
   "execution_count": 5,
   "id": "c4ea0eb9",
   "metadata": {},
   "outputs": [
    {
     "ename": "AttributeError",
     "evalue": "'NoneType' object has no attribute 'reload'",
     "output_type": "error",
     "traceback": [
      "\u001b[31m---------------------------------------------------------------------------\u001b[39m",
      "\u001b[31mAttributeError\u001b[39m                            Traceback (most recent call last)",
      "\u001b[36mCell\u001b[39m\u001b[36m \u001b[39m\u001b[32mIn[5]\u001b[39m\u001b[32m, line 1\u001b[39m\n\u001b[32m----> \u001b[39m\u001b[32m1\u001b[39m \u001b[43mdb_manager\u001b[49m\u001b[43m.\u001b[49m\u001b[43mstop_db\u001b[49m\u001b[43m(\u001b[49m\u001b[43m)\u001b[49m\n\u001b[32m      2\u001b[39m \u001b[38;5;28mprint\u001b[39m(\u001b[33mf\u001b[39m\u001b[33m\"\u001b[39m\u001b[33mDatabase container \u001b[39m\u001b[33m'\u001b[39m\u001b[38;5;132;01m{\u001b[39;00mcontainer_name\u001b[38;5;132;01m}\u001b[39;00m\u001b[33m'\u001b[39m\u001b[33m deleted\u001b[39m\u001b[33m\"\u001b[39m)\n",
      "\u001b[36mFile \u001b[39m\u001b[32mc:\\Users\\acisse\\OneDrive - bridgingIT-Gruppe\\003_CodeWorkspace\\003_private\\DuplicateWorkspaces\\docker-db\\.venv\\Lib\\site-packages\\docker_db\\postgres_db.py:233\u001b[39m, in \u001b[36mPostgresDB.stop_db\u001b[39m\u001b[34m(self, container, force)\u001b[39m\n\u001b[32m    228\u001b[39m \u001b[38;5;66;03m# Stop container\u001b[39;00m\n\u001b[32m    229\u001b[39m \u001b[38;5;28mself\u001b[39m._stop_container(\n\u001b[32m    230\u001b[39m     container=container,\n\u001b[32m    231\u001b[39m     force=force,\n\u001b[32m    232\u001b[39m )\n\u001b[32m--> \u001b[39m\u001b[32m233\u001b[39m \u001b[38;5;28;43mself\u001b[39;49m\u001b[43m.\u001b[49m\u001b[43m_wait_for_container_stop\u001b[49m\u001b[43m(\u001b[49m\n\u001b[32m    234\u001b[39m \u001b[43m    \u001b[49m\u001b[43mcontainer\u001b[49m\u001b[43m,\u001b[49m\n\u001b[32m    235\u001b[39m \u001b[43m    \u001b[49m\u001b[38;5;28;43mself\u001b[39;49m\u001b[43m.\u001b[49m\u001b[43mconfig\u001b[49m\u001b[43m.\u001b[49m\u001b[43mport\u001b[49m\u001b[43m,\u001b[49m\n\u001b[32m    236\u001b[39m \u001b[43m\u001b[49m\u001b[43m)\u001b[49m\n",
      "\u001b[36mFile \u001b[39m\u001b[32mc:\\Users\\acisse\\OneDrive - bridgingIT-Gruppe\\003_CodeWorkspace\\003_private\\DuplicateWorkspaces\\docker-db\\.venv\\Lib\\site-packages\\docker_db\\containers.py:302\u001b[39m, in \u001b[36mContainerManager._wait_for_container_stop\u001b[39m\u001b[34m(self, container, port, timeout)\u001b[39m\n\u001b[32m    298\u001b[39m     \u001b[38;5;28;01mraise\u001b[39;00m \u001b[38;5;167;01mRuntimeError\u001b[39;00m(\n\u001b[32m    299\u001b[39m         \u001b[33mf\u001b[39m\u001b[33m\"\u001b[39m\u001b[33mTimeout waiting for container \u001b[39m\u001b[38;5;132;01m{\u001b[39;00m\u001b[38;5;28mself\u001b[39m.config.container_name\u001b[38;5;132;01m}\u001b[39;00m\u001b[33m to stop\u001b[39m\u001b[33m\"\u001b[39m)\n\u001b[32m    301\u001b[39m \u001b[38;5;66;03m# Refresh container state\u001b[39;00m\n\u001b[32m--> \u001b[39m\u001b[32m302\u001b[39m \u001b[43mcontainer\u001b[49m\u001b[43m.\u001b[49m\u001b[43mreload\u001b[49m()\n\u001b[32m    304\u001b[39m \u001b[38;5;28;01mif\u001b[39;00m container.status \u001b[38;5;129;01min\u001b[39;00m [\u001b[33m'\u001b[39m\u001b[33mstopped\u001b[39m\u001b[33m'\u001b[39m, \u001b[33m'\u001b[39m\u001b[33mexited\u001b[39m\u001b[33m'\u001b[39m, \u001b[33m'\u001b[39m\u001b[33mcreated\u001b[39m\u001b[33m'\u001b[39m]:\n\u001b[32m    305\u001b[39m     container.reload()\n",
      "\u001b[31mAttributeError\u001b[39m: 'NoneType' object has no attribute 'reload'"
     ]
    }
   ],
   "source": [
    "db_manager.stop_db()\n",
    "print(f\"Database container '{container_name}' deleted\")"
   ]
  },
  {
   "cell_type": "code",
   "execution_count": null,
   "id": "2aa6851d",
   "metadata": {},
   "outputs": [],
   "source": [
    "# This will fail because the container exists\n",
    "db_manager.create_db(exists_ok=False, running_ok=False, force=False)\n",
    "print(f\"Database started successfully in container '{container_name}'\")\n",
    "print(f\"Connection details:\")\n",
    "print(f\"  Host: {config.host}\")\n",
    "print(f\"  Port: {config.port}\")\n",
    "print(f\"  User: {config.user}\")\n",
    "print(f\"  Database: {config.database}\")"
   ]
  },
  {
   "cell_type": "code",
   "execution_count": null,
   "id": "540241aa",
   "metadata": {},
   "outputs": [
    {
     "name": "stdout",
     "output_type": "stream",
     "text": [
      "Container demo-postgres-7eff7db2 already exists.\n"
     ]
    },
    {
     "ename": "RuntimeError",
     "evalue": "Container demo-postgres-7eff7db2 is already running. Use force=True to stop it, or running_ok=True to ignore it.",
     "output_type": "error",
     "traceback": [
      "\u001b[31m---------------------------------------------------------------------------\u001b[39m",
      "\u001b[31mRuntimeError\u001b[39m                              Traceback (most recent call last)",
      "\u001b[36mCell\u001b[39m\u001b[36m \u001b[39m\u001b[32mIn[10]\u001b[39m\u001b[32m, line 2\u001b[39m\n\u001b[32m      1\u001b[39m \u001b[38;5;66;03m# Create and start the database\u001b[39;00m\n\u001b[32m----> \u001b[39m\u001b[32m2\u001b[39m \u001b[43mdb_manager\u001b[49m\u001b[43m.\u001b[49m\u001b[43mcreate_db\u001b[49m\u001b[43m(\u001b[49m\u001b[43mexists_ok\u001b[49m\u001b[43m=\u001b[49m\u001b[38;5;28;43;01mTrue\u001b[39;49;00m\u001b[43m,\u001b[49m\u001b[43m \u001b[49m\u001b[43mrunning_ok\u001b[49m\u001b[43m=\u001b[49m\u001b[38;5;28;43;01mFalse\u001b[39;49;00m\u001b[43m,\u001b[49m\u001b[43m \u001b[49m\u001b[43mforce\u001b[49m\u001b[43m=\u001b[49m\u001b[38;5;28;43;01mFalse\u001b[39;49;00m\u001b[43m)\u001b[49m\n\u001b[32m      3\u001b[39m \u001b[38;5;28mprint\u001b[39m(\u001b[33mf\u001b[39m\u001b[33m\"\u001b[39m\u001b[33mDatabase started successfully in container \u001b[39m\u001b[33m'\u001b[39m\u001b[38;5;132;01m{\u001b[39;00mcontainer_name\u001b[38;5;132;01m}\u001b[39;00m\u001b[33m'\u001b[39m\u001b[33m\"\u001b[39m)\n\u001b[32m      4\u001b[39m \u001b[38;5;28mprint\u001b[39m(\u001b[33mf\u001b[39m\u001b[33m\"\u001b[39m\u001b[33mConnection details:\u001b[39m\u001b[33m\"\u001b[39m)\n",
      "\u001b[36mFile \u001b[39m\u001b[32mc:\\Users\\acisse\\OneDrive - bridgingIT-Gruppe\\003_CodeWorkspace\\003_private\\DuplicateWorkspaces\\docker-db\\.venv\\Lib\\site-packages\\docker_db\\containers.py:181\u001b[39m, in \u001b[36mContainerManager.create_db\u001b[39m\u001b[34m(self, db_name, container, exists_ok, running_ok, force)\u001b[39m\n\u001b[32m    179\u001b[39m \u001b[38;5;28;01mif\u001b[39;00m \u001b[38;5;28mself\u001b[39m.config.volume_path \u001b[38;5;129;01mis\u001b[39;00m \u001b[38;5;129;01mnot\u001b[39;00m \u001b[38;5;28;01mNone\u001b[39;00m:\n\u001b[32m    180\u001b[39m     Path(\u001b[38;5;28mself\u001b[39m.config.volume_path).mkdir(parents=\u001b[38;5;28;01mTrue\u001b[39;00m, exist_ok=\u001b[38;5;28;01mTrue\u001b[39;00m)\n\u001b[32m--> \u001b[39m\u001b[32m181\u001b[39m \u001b[38;5;28;43mself\u001b[39;49m\u001b[43m.\u001b[49m\u001b[43mstart_db\u001b[49m\u001b[43m(\u001b[49m\n\u001b[32m    182\u001b[39m \u001b[43m    \u001b[49m\u001b[43mcontainer\u001b[49m\u001b[43m=\u001b[49m\u001b[43mcontainer\u001b[49m\u001b[43m,\u001b[49m\n\u001b[32m    183\u001b[39m \u001b[43m    \u001b[49m\u001b[43mrunning_ok\u001b[49m\u001b[43m=\u001b[49m\u001b[43mrunning_ok\u001b[49m\u001b[43m,\u001b[49m\n\u001b[32m    184\u001b[39m \u001b[43m    \u001b[49m\u001b[43mforce\u001b[49m\u001b[43m=\u001b[49m\u001b[43mforce\u001b[49m\u001b[43m,\u001b[49m\n\u001b[32m    185\u001b[39m \u001b[43m\u001b[49m\u001b[43m)\u001b[49m\n\u001b[32m    186\u001b[39m \u001b[38;5;28mself\u001b[39m._create_db(\n\u001b[32m    187\u001b[39m     db_name,\n\u001b[32m    188\u001b[39m     container=container,\n\u001b[32m    189\u001b[39m )\n",
      "\u001b[36mFile \u001b[39m\u001b[32mc:\\Users\\acisse\\OneDrive - bridgingIT-Gruppe\\003_CodeWorkspace\\003_private\\DuplicateWorkspaces\\docker-db\\.venv\\Lib\\site-packages\\docker_db\\containers.py:222\u001b[39m, in \u001b[36mContainerManager.start_db\u001b[39m\u001b[34m(self, container, running_ok, force)\u001b[39m\n\u001b[32m    191\u001b[39m \u001b[38;5;28;01mdef\u001b[39;00m\u001b[38;5;250m \u001b[39m\u001b[34mstart_db\u001b[39m(\n\u001b[32m    192\u001b[39m     \u001b[38;5;28mself\u001b[39m,\n\u001b[32m    193\u001b[39m     container: Container = \u001b[38;5;28;01mNone\u001b[39;00m,\n\u001b[32m    194\u001b[39m     running_ok: \u001b[38;5;28mbool\u001b[39m = \u001b[38;5;28;01mTrue\u001b[39;00m,\n\u001b[32m    195\u001b[39m     force: \u001b[38;5;28mbool\u001b[39m = \u001b[38;5;28;01mFalse\u001b[39;00m,\n\u001b[32m    196\u001b[39m ):\n\u001b[32m    197\u001b[39m \u001b[38;5;250m    \u001b[39m\u001b[33;03m\"\"\"\u001b[39;00m\n\u001b[32m    198\u001b[39m \u001b[33;03m    Start the database container and wait until it's healthy.\u001b[39;00m\n\u001b[32m    199\u001b[39m \u001b[33;03m    \u001b[39;00m\n\u001b[32m   (...)\u001b[39m\u001b[32m    220\u001b[39m \u001b[33;03m        If database does not become ready within the configured timeout\u001b[39;00m\n\u001b[32m    221\u001b[39m \u001b[33;03m    \"\"\"\u001b[39;00m\n\u001b[32m--> \u001b[39m\u001b[32m222\u001b[39m     \u001b[38;5;28;43mself\u001b[39;49m\u001b[43m.\u001b[49m\u001b[43m_start_container\u001b[49m\u001b[43m(\u001b[49m\n\u001b[32m    223\u001b[39m \u001b[43m        \u001b[49m\u001b[43mcontainer\u001b[49m\u001b[43m=\u001b[49m\u001b[43mcontainer\u001b[49m\u001b[43m,\u001b[49m\n\u001b[32m    224\u001b[39m \u001b[43m        \u001b[49m\u001b[43mrunning_ok\u001b[49m\u001b[43m=\u001b[49m\u001b[43mrunning_ok\u001b[49m\u001b[43m,\u001b[49m\n\u001b[32m    225\u001b[39m \u001b[43m        \u001b[49m\u001b[43mforce\u001b[49m\u001b[43m=\u001b[49m\u001b[43mforce\u001b[49m\u001b[43m,\u001b[49m\n\u001b[32m    226\u001b[39m \u001b[43m    \u001b[49m\u001b[43m)\u001b[49m\n\u001b[32m    227\u001b[39m     \u001b[38;5;28mself\u001b[39m._test_connection()\n",
      "\u001b[36mFile \u001b[39m\u001b[32mc:\\Users\\acisse\\OneDrive - bridgingIT-Gruppe\\003_CodeWorkspace\\003_private\\DuplicateWorkspaces\\docker-db\\.venv\\Lib\\site-packages\\docker_db\\containers.py:626\u001b[39m, in \u001b[36mContainerManager._start_container\u001b[39m\u001b[34m(self, container, force, running_ok)\u001b[39m\n\u001b[32m    624\u001b[39m         \u001b[38;5;28;01mreturn\u001b[39;00m container\n\u001b[32m    625\u001b[39m     \u001b[38;5;28;01melse\u001b[39;00m:\n\u001b[32m--> \u001b[39m\u001b[32m626\u001b[39m         \u001b[38;5;28;01mraise\u001b[39;00m \u001b[38;5;167;01mRuntimeError\u001b[39;00m(\n\u001b[32m    627\u001b[39m             \u001b[33mf\u001b[39m\u001b[33m\"\u001b[39m\u001b[33mContainer \u001b[39m\u001b[38;5;132;01m{\u001b[39;00mcontainer.name\u001b[38;5;132;01m}\u001b[39;00m\u001b[33m is already running. Use force=True to stop it, \u001b[39m\u001b[33m\"\u001b[39m\n\u001b[32m    628\u001b[39m             \u001b[33m\"\u001b[39m\u001b[33mor running_ok=True to ignore it.\u001b[39m\u001b[33m\"\u001b[39m)\n\u001b[32m    630\u001b[39m \u001b[38;5;28;01mtry\u001b[39;00m:\n\u001b[32m    631\u001b[39m     container.start()\n",
      "\u001b[31mRuntimeError\u001b[39m: Container demo-postgres-7eff7db2 is already running. Use force=True to stop it, or running_ok=True to ignore it."
     ]
    }
   ],
   "source": [
    "# This will succeed because the container is stopped and reuse is specified\n",
    "db_manager.create_db(exists_ok=True, running_ok=False, force=False)\n",
    "print(f\"Database started successfully in container '{container_name}'\")\n",
    "print(f\"Connection details:\")\n",
    "print(f\"  Host: {config.host}\")\n",
    "print(f\"  Port: {config.port}\")\n",
    "print(f\"  User: {config.user}\")\n",
    "print(f\"  Database: {config.database}\")"
   ]
  },
  {
   "cell_type": "code",
   "execution_count": null,
   "id": "71a49e56",
   "metadata": {},
   "outputs": [
    {
     "name": "stdout",
     "output_type": "stream",
     "text": [
      "Container demo-postgres-7eff7db2 already exists.\n",
      "Database 'demodb' already exists.\n",
      "Database started successfully in container 'demo-postgres-7eff7db2'\n",
      "Connection details:\n",
      "  Host: localhost\n",
      "  Port: 5432\n",
      "  User: demouser\n",
      "  Database: demodb\n"
     ]
    }
   ],
   "source": [
    "# This will succeed because the container is running and reuse is specified\n",
    "db_manager.create_db(exists_ok=True, running_ok=True, force=False)\n",
    "print(f\"Database started successfully in container '{container_name}'\")\n",
    "print(f\"Connection details:\")\n",
    "print(f\"  Host: {config.host}\")\n",
    "print(f\"  Port: {config.port}\")\n",
    "print(f\"  User: {config.user}\")\n",
    "print(f\"  Database: {config.database}\")"
   ]
  },
  {
   "cell_type": "code",
   "execution_count": 12,
   "id": "ff4d8dfd",
   "metadata": {},
   "outputs": [
    {
     "name": "stdout",
     "output_type": "stream",
     "text": [
      "Container demo-postgres-7eff7db2 already exists. Removing it.\n",
      "Database 'demodb' already exists.\n",
      "Database started successfully in container 'demo-postgres-7eff7db2'\n",
      "Connection details:\n",
      "  Host: localhost\n",
      "  Port: 5432\n",
      "  User: demouser\n",
      "  Database: demodb\n"
     ]
    }
   ],
   "source": [
    "# Create and start the database\n",
    "db_manager.create_db(exists_ok=False, running_ok=False, force=True)\n",
    "print(f\"Database started successfully in container '{container_name}'\")\n",
    "print(f\"Connection details:\")\n",
    "print(f\"  Host: {config.host}\")\n",
    "print(f\"  Port: {config.port}\")\n",
    "print(f\"  User: {config.user}\")\n",
    "print(f\"  Database: {config.database}\")"
   ]
  },
  {
   "cell_type": "code",
   "execution_count": 13,
   "id": "4209b2bd",
   "metadata": {},
   "outputs": [
    {
     "name": "stdout",
     "output_type": "stream",
     "text": [
      "Stopping container demo-postgres-7eff7db2...\n",
      "Container demo-postgres-7eff7db2 stopped and port 5432 is free\n",
      "Starting container demo-postgres-7eff7db2...\n",
      "Database started successfully in container 'demo-postgres-7eff7db2'\n",
      "Connection details:\n",
      "  Host: localhost\n",
      "  Port: 5432\n",
      "  User: demouser\n",
      "  Database: demodb\n"
     ]
    }
   ],
   "source": [
    "# Create and start the database\n",
    "db_manager.restart_db()\n",
    "print(f\"Database started successfully in container '{container_name}'\")\n",
    "print(f\"Connection details:\")\n",
    "print(f\"  Host: {config.host}\")\n",
    "print(f\"  Port: {config.port}\")\n",
    "print(f\"  User: {config.user}\")\n",
    "print(f\"  Database: {config.database}\")"
   ]
  },
  {
   "cell_type": "code",
   "execution_count": 15,
   "id": "b374c360",
   "metadata": {},
   "outputs": [
    {
     "ename": "RuntimeError",
     "evalue": "Container demo-postgres-7eff7db2 is already running. Use force=True to stop it, or running_ok=True to ignore it.",
     "output_type": "error",
     "traceback": [
      "\u001b[31m---------------------------------------------------------------------------\u001b[39m",
      "\u001b[31mRuntimeError\u001b[39m                              Traceback (most recent call last)",
      "\u001b[36mCell\u001b[39m\u001b[36m \u001b[39m\u001b[32mIn[15]\u001b[39m\u001b[32m, line 2\u001b[39m\n\u001b[32m      1\u001b[39m \u001b[38;5;66;03m# Create and start the database\u001b[39;00m\n\u001b[32m----> \u001b[39m\u001b[32m2\u001b[39m \u001b[43mdb_manager\u001b[49m\u001b[43m.\u001b[49m\u001b[43mstart_db\u001b[49m\u001b[43m(\u001b[49m\u001b[43mrunning_ok\u001b[49m\u001b[43m=\u001b[49m\u001b[38;5;28;43;01mFalse\u001b[39;49;00m\u001b[43m)\u001b[49m\n\u001b[32m      3\u001b[39m \u001b[38;5;28mprint\u001b[39m(\u001b[33mf\u001b[39m\u001b[33m\"\u001b[39m\u001b[33mDatabase started successfully in container \u001b[39m\u001b[33m'\u001b[39m\u001b[38;5;132;01m{\u001b[39;00mcontainer_name\u001b[38;5;132;01m}\u001b[39;00m\u001b[33m'\u001b[39m\u001b[33m\"\u001b[39m)\n\u001b[32m      4\u001b[39m \u001b[38;5;28mprint\u001b[39m(\u001b[33mf\u001b[39m\u001b[33m\"\u001b[39m\u001b[33mConnection details:\u001b[39m\u001b[33m\"\u001b[39m)\n",
      "\u001b[36mFile \u001b[39m\u001b[32mc:\\Users\\acisse\\OneDrive - bridgingIT-Gruppe\\003_CodeWorkspace\\003_private\\DuplicateWorkspaces\\docker-db\\.venv\\Lib\\site-packages\\docker_db\\containers.py:222\u001b[39m, in \u001b[36mContainerManager.start_db\u001b[39m\u001b[34m(self, container, running_ok, force)\u001b[39m\n\u001b[32m    191\u001b[39m \u001b[38;5;28;01mdef\u001b[39;00m\u001b[38;5;250m \u001b[39m\u001b[34mstart_db\u001b[39m(\n\u001b[32m    192\u001b[39m     \u001b[38;5;28mself\u001b[39m,\n\u001b[32m    193\u001b[39m     container: Container = \u001b[38;5;28;01mNone\u001b[39;00m,\n\u001b[32m    194\u001b[39m     running_ok: \u001b[38;5;28mbool\u001b[39m = \u001b[38;5;28;01mTrue\u001b[39;00m,\n\u001b[32m    195\u001b[39m     force: \u001b[38;5;28mbool\u001b[39m = \u001b[38;5;28;01mFalse\u001b[39;00m,\n\u001b[32m    196\u001b[39m ):\n\u001b[32m    197\u001b[39m \u001b[38;5;250m    \u001b[39m\u001b[33;03m\"\"\"\u001b[39;00m\n\u001b[32m    198\u001b[39m \u001b[33;03m    Start the database container and wait until it's healthy.\u001b[39;00m\n\u001b[32m    199\u001b[39m \u001b[33;03m    \u001b[39;00m\n\u001b[32m   (...)\u001b[39m\u001b[32m    220\u001b[39m \u001b[33;03m        If database does not become ready within the configured timeout\u001b[39;00m\n\u001b[32m    221\u001b[39m \u001b[33;03m    \"\"\"\u001b[39;00m\n\u001b[32m--> \u001b[39m\u001b[32m222\u001b[39m     \u001b[38;5;28;43mself\u001b[39;49m\u001b[43m.\u001b[49m\u001b[43m_start_container\u001b[49m\u001b[43m(\u001b[49m\n\u001b[32m    223\u001b[39m \u001b[43m        \u001b[49m\u001b[43mcontainer\u001b[49m\u001b[43m=\u001b[49m\u001b[43mcontainer\u001b[49m\u001b[43m,\u001b[49m\n\u001b[32m    224\u001b[39m \u001b[43m        \u001b[49m\u001b[43mrunning_ok\u001b[49m\u001b[43m=\u001b[49m\u001b[43mrunning_ok\u001b[49m\u001b[43m,\u001b[49m\n\u001b[32m    225\u001b[39m \u001b[43m        \u001b[49m\u001b[43mforce\u001b[49m\u001b[43m=\u001b[49m\u001b[43mforce\u001b[49m\u001b[43m,\u001b[49m\n\u001b[32m    226\u001b[39m \u001b[43m    \u001b[49m\u001b[43m)\u001b[49m\n\u001b[32m    227\u001b[39m     \u001b[38;5;28mself\u001b[39m._test_connection()\n",
      "\u001b[36mFile \u001b[39m\u001b[32mc:\\Users\\acisse\\OneDrive - bridgingIT-Gruppe\\003_CodeWorkspace\\003_private\\DuplicateWorkspaces\\docker-db\\.venv\\Lib\\site-packages\\docker_db\\containers.py:626\u001b[39m, in \u001b[36mContainerManager._start_container\u001b[39m\u001b[34m(self, container, force, running_ok)\u001b[39m\n\u001b[32m    624\u001b[39m         \u001b[38;5;28;01mreturn\u001b[39;00m container\n\u001b[32m    625\u001b[39m     \u001b[38;5;28;01melse\u001b[39;00m:\n\u001b[32m--> \u001b[39m\u001b[32m626\u001b[39m         \u001b[38;5;28;01mraise\u001b[39;00m \u001b[38;5;167;01mRuntimeError\u001b[39;00m(\n\u001b[32m    627\u001b[39m             \u001b[33mf\u001b[39m\u001b[33m\"\u001b[39m\u001b[33mContainer \u001b[39m\u001b[38;5;132;01m{\u001b[39;00mcontainer.name\u001b[38;5;132;01m}\u001b[39;00m\u001b[33m is already running. Use force=True to stop it, \u001b[39m\u001b[33m\"\u001b[39m\n\u001b[32m    628\u001b[39m             \u001b[33m\"\u001b[39m\u001b[33mor running_ok=True to ignore it.\u001b[39m\u001b[33m\"\u001b[39m)\n\u001b[32m    630\u001b[39m \u001b[38;5;28;01mtry\u001b[39;00m:\n\u001b[32m    631\u001b[39m     container.start()\n",
      "\u001b[31mRuntimeError\u001b[39m: Container demo-postgres-7eff7db2 is already running. Use force=True to stop it, or running_ok=True to ignore it."
     ]
    }
   ],
   "source": [
    "# Create and start the database\n",
    "db_manager.start_db(running_ok=False)\n",
    "print(f\"Database started successfully in container '{container_name}'\")\n",
    "print(f\"Connection details:\")\n",
    "print(f\"  Host: {config.host}\")\n",
    "print(f\"  Port: {config.port}\")\n",
    "print(f\"  User: {config.user}\")\n",
    "print(f\"  Database: {config.database}\")"
   ]
  },
  {
   "cell_type": "code",
   "execution_count": 14,
   "id": "c073f5e5",
   "metadata": {},
   "outputs": [
    {
     "name": "stdout",
     "output_type": "stream",
     "text": [
      "Database started successfully in container 'demo-postgres-7eff7db2'\n",
      "Connection details:\n",
      "  Host: localhost\n",
      "  Port: 5432\n",
      "  User: demouser\n",
      "  Database: demodb\n"
     ]
    }
   ],
   "source": [
    "# Create and start the database\n",
    "db_manager.start_db(running_ok=True)\n",
    "print(f\"Database started successfully in container '{container_name}'\")\n",
    "print(f\"Connection details:\")\n",
    "print(f\"  Host: {config.host}\")\n",
    "print(f\"  Port: {config.port}\")\n",
    "print(f\"  User: {config.user}\")\n",
    "print(f\"  Database: {config.database}\")"
   ]
  },
  {
   "cell_type": "code",
   "execution_count": 16,
   "id": "9b91d2d8",
   "metadata": {},
   "outputs": [
    {
     "name": "stdout",
     "output_type": "stream",
     "text": [
      "Container demo-postgres-7eff7db2 is already running. Stopping it...\n",
      "Database started successfully in container 'demo-postgres-7eff7db2'\n",
      "Connection details:\n",
      "  Host: localhost\n",
      "  Port: 5432\n",
      "  User: demouser\n",
      "  Database: demodb\n"
     ]
    }
   ],
   "source": [
    "# Create and start the database\n",
    "db_manager.start_db(force=True)\n",
    "print(f\"Database started successfully in container '{container_name}'\")\n",
    "print(f\"Connection details:\")\n",
    "print(f\"  Host: {config.host}\")\n",
    "print(f\"  Port: {config.port}\")\n",
    "print(f\"  User: {config.user}\")\n",
    "print(f\"  Database: {config.database}\")"
   ]
  },
  {
   "cell_type": "code",
   "execution_count": 17,
   "id": "963cb1ff",
   "metadata": {},
   "outputs": [
    {
     "name": "stdout",
     "output_type": "stream",
     "text": [
      "Database container 'demo-postgres-7eff7db2' deleted\n"
     ]
    }
   ],
   "source": [
    "db_manager.stop_db()\n",
    "print(f\"Database container '{container_name}' deleted\")"
   ]
  },
  {
   "cell_type": "markdown",
   "id": "dc9033f0",
   "metadata": {},
   "source": []
  }
 ],
 "metadata": {
  "kernelspec": {
   "display_name": ".venv",
   "language": "python",
   "name": "python3"
  },
  "language_info": {
   "codemirror_mode": {
    "name": "ipython",
    "version": 3
   },
   "file_extension": ".py",
   "mimetype": "text/x-python",
   "name": "python",
   "nbconvert_exporter": "python",
   "pygments_lexer": "ipython3",
   "version": "3.12.10"
  }
 },
 "nbformat": 4,
 "nbformat_minor": 5
}
