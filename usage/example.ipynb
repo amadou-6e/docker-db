{
    "cells": [
        {
            "cell_type": "markdown",
            "metadata": {},
            "source": [
                "# PostgresDB Manager Usage Examples\n",
                "\n",
                "## Introduction\n",
                "This notebook demonstrates how to use the `PostgresDB` manager class to create, manage, and interact with a PostgreSQL database in a Docker container. We'll use Python and SQL cell magic to showcase the package functionality."
            ]
        },
        {
            "cell_type": "markdown",
            "metadata": {},
            "source": [
                "## Setup\n",
                "\n",
                "### Install Required Packages"
            ]
        },
        {
            "cell_type": "code",
            "execution_count": 7,
            "metadata": {},
            "outputs": [
                {
                    "name": "stdout",
                    "output_type": "stream",
                    "text": [
                        "Requirement already satisfied: ipython-sql in c:\\users\\acisse\\onedrive - bridgingit-gruppe\\003_codeworkspace\\003_private\\docker-db\\.venv\\lib\\site-packages (0.5.0)\n",
                        "Requirement already satisfied: psycopg2-binary in c:\\users\\acisse\\onedrive - bridgingit-gruppe\\003_codeworkspace\\003_private\\docker-db\\.venv\\lib\\site-packages (2.9.10)\n",
                        "Requirement already satisfied: docker_db in c:\\users\\acisse\\onedrive - bridgingit-gruppe\\003_codeworkspace\\003_private\\docker-db\\.venv\\lib\\site-packages (0.1.0)\n",
                        "Requirement already satisfied: prettytable in c:\\users\\acisse\\onedrive - bridgingit-gruppe\\003_codeworkspace\\003_private\\docker-db\\.venv\\lib\\site-packages (from ipython-sql) (3.16.0)\n",
                        "Requirement already satisfied: ipython in c:\\users\\acisse\\onedrive - bridgingit-gruppe\\003_codeworkspace\\003_private\\docker-db\\.venv\\lib\\site-packages (from ipython-sql) (9.2.0)\n",
                        "Requirement already satisfied: sqlalchemy>=2.0 in c:\\users\\acisse\\onedrive - bridgingit-gruppe\\003_codeworkspace\\003_private\\docker-db\\.venv\\lib\\site-packages (from ipython-sql) (2.0.41)\n",
                        "Requirement already satisfied: sqlparse in c:\\users\\acisse\\onedrive - bridgingit-gruppe\\003_codeworkspace\\003_private\\docker-db\\.venv\\lib\\site-packages (from ipython-sql) (0.5.3)\n",
                        "Requirement already satisfied: six in c:\\users\\acisse\\onedrive - bridgingit-gruppe\\003_codeworkspace\\003_private\\docker-db\\.venv\\lib\\site-packages (from ipython-sql) (1.17.0)\n",
                        "Requirement already satisfied: ipython-genutils in c:\\users\\acisse\\onedrive - bridgingit-gruppe\\003_codeworkspace\\003_private\\docker-db\\.venv\\lib\\site-packages (from ipython-sql) (0.2.0)\n",
                        "Requirement already satisfied: docker in c:\\users\\acisse\\onedrive - bridgingit-gruppe\\003_codeworkspace\\003_private\\docker-db\\.venv\\lib\\site-packages (from docker_db) (7.1.0)\n",
                        "Requirement already satisfied: pytest in c:\\users\\acisse\\onedrive - bridgingit-gruppe\\003_codeworkspace\\003_private\\docker-db\\.venv\\lib\\site-packages (from docker_db) (8.3.5)\n",
                        "Requirement already satisfied: pymongo in c:\\users\\acisse\\onedrive - bridgingit-gruppe\\003_codeworkspace\\003_private\\docker-db\\.venv\\lib\\site-packages (from docker_db) (4.13.0)\n",
                        "Requirement already satisfied: pydantic in c:\\users\\acisse\\onedrive - bridgingit-gruppe\\003_codeworkspace\\003_private\\docker-db\\.venv\\lib\\site-packages (from docker_db) (2.11.4)\n",
                        "Requirement already satisfied: setuptools in c:\\users\\acisse\\onedrive - bridgingit-gruppe\\003_codeworkspace\\003_private\\docker-db\\.venv\\lib\\site-packages (from docker_db) (80.7.1)\n",
                        "Requirement already satisfied: mysql-connector-python in c:\\users\\acisse\\onedrive - bridgingit-gruppe\\003_codeworkspace\\003_private\\docker-db\\.venv\\lib\\site-packages (from docker_db) (9.3.0)\n",
                        "Requirement already satisfied: greenlet>=1 in c:\\users\\acisse\\onedrive - bridgingit-gruppe\\003_codeworkspace\\003_private\\docker-db\\.venv\\lib\\site-packages (from sqlalchemy>=2.0->ipython-sql) (3.2.2)\n",
                        "Requirement already satisfied: typing-extensions>=4.6.0 in c:\\users\\acisse\\onedrive - bridgingit-gruppe\\003_codeworkspace\\003_private\\docker-db\\.venv\\lib\\site-packages (from sqlalchemy>=2.0->ipython-sql) (4.13.2)\n",
                        "Requirement already satisfied: pywin32>=304 in c:\\users\\acisse\\onedrive - bridgingit-gruppe\\003_codeworkspace\\003_private\\docker-db\\.venv\\lib\\site-packages (from docker->docker_db) (310)\n",
                        "Requirement already satisfied: requests>=2.26.0 in c:\\users\\acisse\\onedrive - bridgingit-gruppe\\003_codeworkspace\\003_private\\docker-db\\.venv\\lib\\site-packages (from docker->docker_db) (2.32.3)\n",
                        "Requirement already satisfied: urllib3>=1.26.0 in c:\\users\\acisse\\onedrive - bridgingit-gruppe\\003_codeworkspace\\003_private\\docker-db\\.venv\\lib\\site-packages (from docker->docker_db) (2.4.0)\n",
                        "Requirement already satisfied: colorama in c:\\users\\acisse\\onedrive - bridgingit-gruppe\\003_codeworkspace\\003_private\\docker-db\\.venv\\lib\\site-packages (from ipython->ipython-sql) (0.4.6)\n",
                        "Requirement already satisfied: decorator in c:\\users\\acisse\\onedrive - bridgingit-gruppe\\003_codeworkspace\\003_private\\docker-db\\.venv\\lib\\site-packages (from ipython->ipython-sql) (5.2.1)\n",
                        "Requirement already satisfied: ipython-pygments-lexers in c:\\users\\acisse\\onedrive - bridgingit-gruppe\\003_codeworkspace\\003_private\\docker-db\\.venv\\lib\\site-packages (from ipython->ipython-sql) (1.1.1)\n",
                        "Requirement already satisfied: jedi>=0.16 in c:\\users\\acisse\\onedrive - bridgingit-gruppe\\003_codeworkspace\\003_private\\docker-db\\.venv\\lib\\site-packages (from ipython->ipython-sql) (0.19.2)\n",
                        "Requirement already satisfied: matplotlib-inline in c:\\users\\acisse\\onedrive - bridgingit-gruppe\\003_codeworkspace\\003_private\\docker-db\\.venv\\lib\\site-packages (from ipython->ipython-sql) (0.1.7)\n",
                        "Requirement already satisfied: prompt_toolkit<3.1.0,>=3.0.41 in c:\\users\\acisse\\onedrive - bridgingit-gruppe\\003_codeworkspace\\003_private\\docker-db\\.venv\\lib\\site-packages (from ipython->ipython-sql) (3.0.51)\n",
                        "Requirement already satisfied: pygments>=2.4.0 in c:\\users\\acisse\\onedrive - bridgingit-gruppe\\003_codeworkspace\\003_private\\docker-db\\.venv\\lib\\site-packages (from ipython->ipython-sql) (2.19.1)\n",
                        "Requirement already satisfied: stack_data in c:\\users\\acisse\\onedrive - bridgingit-gruppe\\003_codeworkspace\\003_private\\docker-db\\.venv\\lib\\site-packages (from ipython->ipython-sql) (0.6.3)\n",
                        "Requirement already satisfied: traitlets>=5.13.0 in c:\\users\\acisse\\onedrive - bridgingit-gruppe\\003_codeworkspace\\003_private\\docker-db\\.venv\\lib\\site-packages (from ipython->ipython-sql) (5.14.3)\n",
                        "Requirement already satisfied: wcwidth in c:\\users\\acisse\\onedrive - bridgingit-gruppe\\003_codeworkspace\\003_private\\docker-db\\.venv\\lib\\site-packages (from prettytable->ipython-sql) (0.2.13)\n",
                        "Requirement already satisfied: annotated-types>=0.6.0 in c:\\users\\acisse\\onedrive - bridgingit-gruppe\\003_codeworkspace\\003_private\\docker-db\\.venv\\lib\\site-packages (from pydantic->docker_db) (0.7.0)\n",
                        "Requirement already satisfied: pydantic-core==2.33.2 in c:\\users\\acisse\\onedrive - bridgingit-gruppe\\003_codeworkspace\\003_private\\docker-db\\.venv\\lib\\site-packages (from pydantic->docker_db) (2.33.2)\n",
                        "Requirement already satisfied: typing-inspection>=0.4.0 in c:\\users\\acisse\\onedrive - bridgingit-gruppe\\003_codeworkspace\\003_private\\docker-db\\.venv\\lib\\site-packages (from pydantic->docker_db) (0.4.0)\n",
                        "Requirement already satisfied: dnspython<3.0.0,>=1.16.0 in c:\\users\\acisse\\onedrive - bridgingit-gruppe\\003_codeworkspace\\003_private\\docker-db\\.venv\\lib\\site-packages (from pymongo->docker_db) (2.7.0)\n",
                        "Requirement already satisfied: iniconfig in c:\\users\\acisse\\onedrive - bridgingit-gruppe\\003_codeworkspace\\003_private\\docker-db\\.venv\\lib\\site-packages (from pytest->docker_db) (2.1.0)\n",
                        "Requirement already satisfied: packaging in c:\\users\\acisse\\onedrive - bridgingit-gruppe\\003_codeworkspace\\003_private\\docker-db\\.venv\\lib\\site-packages (from pytest->docker_db) (25.0)\n",
                        "Requirement already satisfied: pluggy<2,>=1.5 in c:\\users\\acisse\\onedrive - bridgingit-gruppe\\003_codeworkspace\\003_private\\docker-db\\.venv\\lib\\site-packages (from pytest->docker_db) (1.6.0)\n",
                        "Requirement already satisfied: parso<0.9.0,>=0.8.4 in c:\\users\\acisse\\onedrive - bridgingit-gruppe\\003_codeworkspace\\003_private\\docker-db\\.venv\\lib\\site-packages (from jedi>=0.16->ipython->ipython-sql) (0.8.4)\n",
                        "Requirement already satisfied: charset-normalizer<4,>=2 in c:\\users\\acisse\\onedrive - bridgingit-gruppe\\003_codeworkspace\\003_private\\docker-db\\.venv\\lib\\site-packages (from requests>=2.26.0->docker->docker_db) (3.4.2)\n",
                        "Requirement already satisfied: idna<4,>=2.5 in c:\\users\\acisse\\onedrive - bridgingit-gruppe\\003_codeworkspace\\003_private\\docker-db\\.venv\\lib\\site-packages (from requests>=2.26.0->docker->docker_db) (3.10)\n",
                        "Requirement already satisfied: certifi>=2017.4.17 in c:\\users\\acisse\\onedrive - bridgingit-gruppe\\003_codeworkspace\\003_private\\docker-db\\.venv\\lib\\site-packages (from requests>=2.26.0->docker->docker_db) (2025.4.26)\n",
                        "Requirement already satisfied: executing>=1.2.0 in c:\\users\\acisse\\onedrive - bridgingit-gruppe\\003_codeworkspace\\003_private\\docker-db\\.venv\\lib\\site-packages (from stack_data->ipython->ipython-sql) (2.2.0)\n",
                        "Requirement already satisfied: asttokens>=2.1.0 in c:\\users\\acisse\\onedrive - bridgingit-gruppe\\003_codeworkspace\\003_private\\docker-db\\.venv\\lib\\site-packages (from stack_data->ipython->ipython-sql) (3.0.0)\n",
                        "Requirement already satisfied: pure-eval in c:\\users\\acisse\\onedrive - bridgingit-gruppe\\003_codeworkspace\\003_private\\docker-db\\.venv\\lib\\site-packages (from stack_data->ipython->ipython-sql) (0.2.3)\n"
                    ]
                },
                {
                    "name": "stderr",
                    "output_type": "stream",
                    "text": [
                        "\n",
                        "[notice] A new release of pip is available: 25.0.1 -> 25.1.1\n",
                        "[notice] To update, run: python.exe -m pip install --upgrade pip\n"
                    ]
                }
            ],
            "source": [
                "!pip install ipython-sql psycopg2-binary docker_db"
            ]
        },
        {
            "cell_type": "markdown",
            "metadata": {},
            "source": [
                "### Import Dependencies"
            ]
        },
        {
            "cell_type": "code",
            "execution_count": 8,
            "metadata": {},
            "outputs": [
                {
                    "name": "stdout",
                    "output_type": "stream",
                    "text": [
                        "The sql extension is already loaded. To reload it, use:\n",
                        "  %reload_ext sql\n"
                    ]
                }
            ],
            "source": [
                "import uuid\n",
                "from pathlib import Path\n",
                "from docker_db.postgres_db import PostgresConfig, PostgresDB\n",
                "\n",
                "# For SQL cell magic\n",
                "%load_ext sql"
            ]
        },
        {
            "cell_type": "markdown",
            "metadata": {},
            "source": [
                "## Creating a PostgreSQL Database Instance\n",
                "\n",
                "Let's create a temporary directory for our database files:"
            ]
        },
        {
            "cell_type": "code",
            "execution_count": 9,
            "metadata": {},
            "outputs": [
                {
                    "name": "stdout",
                    "output_type": "stream",
                    "text": [
                        "Created temporary directory: C:\\Users\\acisse\\AppData\\Local\\Temp\\tmp501158zs\n"
                    ]
                }
            ],
            "source": [
                "import tempfile\n",
                "import os\n",
                "\n",
                "# Create a temporary directory\n",
                "temp_dir = Path(tempfile.mkdtemp())\n",
                "print(f\"Created temporary directory: {temp_dir}\")"
            ]
        },
        {
            "cell_type": "markdown",
            "metadata": {},
            "source": [
                "Now, let's set up the PostgresDB configuration:"
            ]
        },
        {
            "cell_type": "code",
            "execution_count": 10,
            "metadata": {},
            "outputs": [],
            "source": [
                "# Generate a unique container name\n",
                "container_name = f\"demo-postgres-{uuid.uuid4().hex[:8]}\"\n",
                "\n",
                "# Create a configuration for our database\n",
                "config = PostgresConfig(\n",
                "    user=\"demouser\",\n",
                "    password=\"demopass\",\n",
                "    database=\"demodb\",\n",
                "    project_name=\"demo\",\n",
                "    workdir=temp_dir,\n",
                "    container_name=container_name,\n",
                "    retries=20,\n",
                "    delay=3,\n",
                ")\n",
                "\n",
                "# Initialize the database manager\n",
                "db_manager = PostgresDB(config)"
            ]
        },
        {
            "cell_type": "markdown",
            "metadata": {},
            "source": [
                "## Start the Database\n",
                "\n",
                "We'll now create and start the database:"
            ]
        },
        {
            "cell_type": "code",
            "execution_count": 11,
            "metadata": {},
            "outputs": [
                {
                    "name": "stdout",
                    "output_type": "stream",
                    "text": [
                        "Building image demo-postgres:dev...\n"
                    ]
                },
                {
                    "ename": "RuntimeError",
                    "evalue": "Failed to build image: {'message': 'Cannot locate specified Dockerfile: docker\\\\Dockerfile.pgdb'}",
                    "output_type": "error",
                    "traceback": [
                        "\u001b[31m---------------------------------------------------------------------------\u001b[39m",
                        "\u001b[31mBuildError\u001b[39m                                Traceback (most recent call last)",
                        "\u001b[36mFile \u001b[39m\u001b[32mc:\\Users\\acisse\\OneDrive - bridgingIT-Gruppe\\003_CodeWorkspace\\003_private\\docker-db\\.venv\\Lib\\site-packages\\docker_db\\containers.py:187\u001b[39m, in \u001b[36mContainerManager._build_image\u001b[39m\u001b[34m(self)\u001b[39m\n\u001b[32m    185\u001b[39m \u001b[38;5;28;01mtry\u001b[39;00m:\n\u001b[32m    186\u001b[39m     \u001b[38;5;66;03m# This returns a tuple: (image, build_logs)\u001b[39;00m\n\u001b[32m--> \u001b[39m\u001b[32m187\u001b[39m     image, logs = \u001b[38;5;28;43mself\u001b[39;49m\u001b[43m.\u001b[49m\u001b[43mclient\u001b[49m\u001b[43m.\u001b[49m\u001b[43mimages\u001b[49m\u001b[43m.\u001b[49m\u001b[43mbuild\u001b[49m\u001b[43m(\u001b[49m\n\u001b[32m    188\u001b[39m \u001b[43m        \u001b[49m\u001b[43mpath\u001b[49m\u001b[43m=\u001b[49m\u001b[38;5;28;43mstr\u001b[39;49m\u001b[43m(\u001b[49m\u001b[38;5;28;43mself\u001b[39;49m\u001b[43m.\u001b[49m\u001b[43mconfig\u001b[49m\u001b[43m.\u001b[49m\u001b[43mworkdir\u001b[49m\u001b[43m)\u001b[49m\u001b[43m,\u001b[49m\n\u001b[32m    189\u001b[39m \u001b[43m        \u001b[49m\u001b[43mdockerfile\u001b[49m\u001b[43m=\u001b[49m\u001b[38;5;28;43mstr\u001b[39;49m\u001b[43m(\u001b[49m\u001b[38;5;28;43mself\u001b[39;49m\u001b[43m.\u001b[49m\u001b[43mconfig\u001b[49m\u001b[43m.\u001b[49m\u001b[43mdockerfile_path\u001b[49m\u001b[43m)\u001b[49m\u001b[43m,\u001b[49m\n\u001b[32m    190\u001b[39m \u001b[43m        \u001b[49m\u001b[43mtag\u001b[49m\u001b[43m=\u001b[49m\u001b[38;5;28;43mself\u001b[39;49m\u001b[43m.\u001b[49m\u001b[43mconfig\u001b[49m\u001b[43m.\u001b[49m\u001b[43mimage_name\u001b[49m\u001b[43m,\u001b[49m\n\u001b[32m    191\u001b[39m \u001b[43m    \u001b[49m\u001b[43m)\u001b[49m\n\u001b[32m    193\u001b[39m     \u001b[38;5;66;03m# The logs here are just a generator object and not as easy to process in real-time\u001b[39;00m\n",
                        "\u001b[36mFile \u001b[39m\u001b[32mc:\\Users\\acisse\\OneDrive - bridgingIT-Gruppe\\003_CodeWorkspace\\003_private\\docker-db\\.venv\\Lib\\site-packages\\docker\\models\\images.py:315\u001b[39m, in \u001b[36mImageCollection.build\u001b[39m\u001b[34m(self, **kwargs)\u001b[39m\n\u001b[32m    314\u001b[39m     \u001b[38;5;28;01mreturn\u001b[39;00m (\u001b[38;5;28mself\u001b[39m.get(image_id), result_stream)\n\u001b[32m--> \u001b[39m\u001b[32m315\u001b[39m \u001b[38;5;28;01mraise\u001b[39;00m BuildError(last_event \u001b[38;5;129;01mor\u001b[39;00m \u001b[33m'\u001b[39m\u001b[33mUnknown\u001b[39m\u001b[33m'\u001b[39m, result_stream)\n",
                        "\u001b[31mBuildError\u001b[39m: {'message': 'Cannot locate specified Dockerfile: docker\\\\Dockerfile.pgdb'}",
                        "\nThe above exception was the direct cause of the following exception:\n",
                        "\u001b[31mRuntimeError\u001b[39m                              Traceback (most recent call last)",
                        "\u001b[36mCell\u001b[39m\u001b[36m \u001b[39m\u001b[32mIn[11]\u001b[39m\u001b[32m, line 2\u001b[39m\n\u001b[32m      1\u001b[39m \u001b[38;5;66;03m# Create and start the database\u001b[39;00m\n\u001b[32m----> \u001b[39m\u001b[32m2\u001b[39m \u001b[43mdb_manager\u001b[49m\u001b[43m.\u001b[49m\u001b[43mcreate_db\u001b[49m\u001b[43m(\u001b[49m\u001b[43m)\u001b[49m\n\u001b[32m      3\u001b[39m \u001b[38;5;28mprint\u001b[39m(\u001b[33mf\u001b[39m\u001b[33m\"\u001b[39m\u001b[33mDatabase started successfully in container \u001b[39m\u001b[33m'\u001b[39m\u001b[38;5;132;01m{\u001b[39;00mcontainer_name\u001b[38;5;132;01m}\u001b[39;00m\u001b[33m'\u001b[39m\u001b[33m\"\u001b[39m)\n\u001b[32m      4\u001b[39m \u001b[38;5;28mprint\u001b[39m(\u001b[33mf\u001b[39m\u001b[33m\"\u001b[39m\u001b[33mConnection details:\u001b[39m\u001b[33m\"\u001b[39m)\n",
                        "\u001b[36mFile \u001b[39m\u001b[32mc:\\Users\\acisse\\OneDrive - bridgingIT-Gruppe\\003_CodeWorkspace\\003_private\\docker-db\\.venv\\Lib\\site-packages\\docker_db\\postgres_db.py:101\u001b[39m, in \u001b[36mPostgresDB.create_db\u001b[39m\u001b[34m(self, db_name, container)\u001b[39m\n\u001b[32m     94\u001b[39m \u001b[38;5;28;01mdef\u001b[39;00m\u001b[38;5;250m \u001b[39m\u001b[34mcreate_db\u001b[39m(\n\u001b[32m     95\u001b[39m     \u001b[38;5;28mself\u001b[39m,\n\u001b[32m     96\u001b[39m     db_name: \u001b[38;5;28mstr\u001b[39m = \u001b[38;5;28;01mNone\u001b[39;00m,\n\u001b[32m     97\u001b[39m     container: Container = \u001b[38;5;28;01mNone\u001b[39;00m,\n\u001b[32m     98\u001b[39m ):\n\u001b[32m     99\u001b[39m     \u001b[38;5;66;03m# Ensure container is running\u001b[39;00m\n\u001b[32m    100\u001b[39m     db_name = db_name \u001b[38;5;129;01mor\u001b[39;00m \u001b[38;5;28mself\u001b[39m.config.database\n\u001b[32m--> \u001b[39m\u001b[32m101\u001b[39m     \u001b[38;5;28;43mself\u001b[39;49m\u001b[43m.\u001b[49m\u001b[43m_build_image\u001b[49m\u001b[43m(\u001b[49m\u001b[43m)\u001b[49m\n\u001b[32m    102\u001b[39m     \u001b[38;5;28mself\u001b[39m._create_container()\n\u001b[32m    103\u001b[39m     \u001b[38;5;28;01mif\u001b[39;00m \u001b[38;5;28mself\u001b[39m.config.volume_path \u001b[38;5;129;01mis\u001b[39;00m \u001b[38;5;129;01mnot\u001b[39;00m \u001b[38;5;28;01mNone\u001b[39;00m:\n",
                        "\u001b[36mFile \u001b[39m\u001b[32mc:\\Users\\acisse\\OneDrive - bridgingIT-Gruppe\\003_CodeWorkspace\\003_private\\docker-db\\.venv\\Lib\\site-packages\\docker_db\\containers.py:198\u001b[39m, in \u001b[36mContainerManager._build_image\u001b[39m\u001b[34m(self)\u001b[39m\n\u001b[32m    196\u001b[39m             \u001b[38;5;28mprint\u001b[39m(log[\u001b[33m'\u001b[39m\u001b[33mstream\u001b[39m\u001b[33m'\u001b[39m], end=\u001b[33m'\u001b[39m\u001b[33m'\u001b[39m)\n\u001b[32m    197\u001b[39m \u001b[38;5;28;01mexcept\u001b[39;00m docker.errors.BuildError \u001b[38;5;28;01mas\u001b[39;00m e:\n\u001b[32m--> \u001b[39m\u001b[32m198\u001b[39m     \u001b[38;5;28;01mraise\u001b[39;00m \u001b[38;5;167;01mRuntimeError\u001b[39;00m(\u001b[33mf\u001b[39m\u001b[33m\"\u001b[39m\u001b[33mFailed to build image: \u001b[39m\u001b[38;5;132;01m{\u001b[39;00m\u001b[38;5;28mstr\u001b[39m(e)\u001b[38;5;132;01m}\u001b[39;00m\u001b[33m\"\u001b[39m) \u001b[38;5;28;01mfrom\u001b[39;00m\u001b[38;5;250m \u001b[39m\u001b[34;01me\u001b[39;00m\n",
                        "\u001b[31mRuntimeError\u001b[39m: Failed to build image: {'message': 'Cannot locate specified Dockerfile: docker\\\\Dockerfile.pgdb'}"
                    ]
                }
            ],
            "source": [
                "# Create and start the database\n",
                "db_manager.create_db()\n",
                "print(f\"Database started successfully in container '{container_name}'\")\n",
                "print(f\"Connection details:\")\n",
                "print(f\"  Host: {config.host}\")\n",
                "print(f\"  Port: {config.port}\")\n",
                "print(f\"  User: {config.user}\")\n",
                "print(f\"  Database: {config.database}\")"
            ]
        },
        {
            "cell_type": "markdown",
            "metadata": {},
            "source": [
                "## Connect and Run SQL Queries\n",
                "\n",
                "Now that our database is running, let's connect to it using SQL cell magic:"
            ]
        },
        {
            "cell_type": "code",
            "execution_count": null,
            "metadata": {},
            "outputs": [],
            "source": [
                "# Define the connection string for SQL magic\n",
                "conn_string = f\"postgresql://{config.user}:{config.password}@{config.host}:{config.port}/{config.database}\"\n",
                "%sql $conn_string"
            ]
        },
        {
            "cell_type": "markdown",
            "metadata": {},
            "source": [
                "### Creating a Table"
            ]
        },
        {
            "cell_type": "code",
            "execution_count": null,
            "metadata": {},
            "outputs": [],
            "source": [
                "%%sql\n",
                "CREATE TABLE demo_users (\n",
                "    id SERIAL PRIMARY KEY,\n",
                "    username VARCHAR(50) UNIQUE NOT NULL,\n",
                "    email VARCHAR(100) UNIQUE,\n",
                "    created_at TIMESTAMP DEFAULT CURRENT_TIMESTAMP\n",
                ");"
            ]
        },
        {
            "cell_type": "markdown",
            "metadata": {},
            "source": [
                "### Insert Data"
            ]
        },
        {
            "cell_type": "code",
            "execution_count": null,
            "metadata": {},
            "outputs": [],
            "source": [
                "%%sql\n",
                "INSERT INTO demo_users (username, email) VALUES\n",
                "    ('alice', 'alice@example.com'),\n",
                "    ('bob', 'bob@example.com'),\n",
                "    ('charlie', 'charlie@example.com');"
            ]
        },
        {
            "cell_type": "markdown",
            "metadata": {},
            "source": [
                "### Query Data"
            ]
        },
        {
            "cell_type": "code",
            "execution_count": null,
            "metadata": {},
            "outputs": [],
            "source": [
                "%%sql\n",
                "SELECT * FROM demo_users;"
            ]
        },
        {
            "cell_type": "markdown",
            "metadata": {},
            "source": [
                "### Run More Complex Queries"
            ]
        },
        {
            "cell_type": "code",
            "execution_count": null,
            "metadata": {},
            "outputs": [],
            "source": [
                "%%sql\n",
                "-- Create another table for demonstration\n",
                "CREATE TABLE demo_posts (\n",
                "    id SERIAL PRIMARY KEY,\n",
                "    user_id INTEGER REFERENCES demo_users(id),\n",
                "    title VARCHAR(100) NOT NULL,\n",
                "    content TEXT,\n",
                "    created_at TIMESTAMP DEFAULT CURRENT_TIMESTAMP\n",
                ");\n",
                "\n",
                "-- Insert some posts\n",
                "INSERT INTO demo_posts (user_id, title, content) VALUES\n",
                "    (1, 'Alice First Post', 'Hello world from Alice!'),\n",
                "    (1, 'Alice Second Post', 'Another post from Alice'),\n",
                "    (2, 'Bob Introduction', 'Hi, this is Bob!'),\n",
                "    (3, 'Charlie Notes', 'Some notes from Charlie');\n",
                "    \n",
                "-- Query with JOIN\n",
                "SELECT u.username, p.title, p.content\n",
                "FROM demo_users u\n",
                "JOIN demo_posts p ON u.id = p.user_id\n",
                "ORDER BY u.username, p.created_at;"
            ]
        },
        {
            "cell_type": "markdown",
            "metadata": {},
            "source": [
                "## Using Regular Python to Access the Database\n",
                "\n",
                "You can also interact with the database using Python code and psycopg2:"
            ]
        },
        {
            "cell_type": "code",
            "execution_count": null,
            "metadata": {},
            "outputs": [],
            "source": [
                "import psycopg2\n",
                "from psycopg2.extras import RealDictCursor\n",
                "\n",
                "# Connect to the database\n",
                "conn = psycopg2.connect(\n",
                "    host=config.host,\n",
                "    port=config.port,\n",
                "    database=config.database,\n",
                "    user=config.user,\n",
                "    password=config.password,\n",
                "    cursor_factory=RealDictCursor\n",
                ")\n",
                "\n",
                "# Create a cursor\n",
                "cur = conn.cursor()\n",
                "\n",
                "# Execute a query\n",
                "cur.execute(\"SELECT COUNT(*) as post_count FROM demo_posts\")\n",
                "result = cur.fetchone()\n",
                "print(f\"Total number of posts: {result['post_count']}\")\n",
                "\n",
                "# Group by query\n",
                "cur.execute(\"\"\"\n",
                "    SELECT u.username, COUNT(p.id) as post_count \n",
                "    FROM demo_users u\n",
                "    LEFT JOIN demo_posts p ON u.id = p.user_id\n",
                "    GROUP BY u.username\n",
                "    ORDER BY post_count DESC\n",
                "\"\"\")\n",
                "\n",
                "print(\"\\nPost count by user:\")\n",
                "for row in cur.fetchall():\n",
                "    print(f\"  {row['username']}: {row['post_count']} posts\")\n",
                "\n",
                "# Close the connection\n",
                "cur.close()\n",
                "conn.close()"
            ]
        },
        {
            "cell_type": "markdown",
            "metadata": {},
            "source": [
                "## Clean Up\n",
                "\n",
                "When you're done with the database, you can delete it:"
            ]
        },
        {
            "cell_type": "code",
            "execution_count": null,
            "metadata": {},
            "outputs": [],
            "source": [
                "# Delete the database container\n",
                "db_manager.delete_db()\n",
                "print(f\"Database container '{container_name}' deleted\")\n",
                "\n",
                "# Clean up the temporary directory\n",
                "import shutil\n",
                "shutil.rmtree(temp_dir)\n",
                "print(f\"Temporary directory '{temp_dir}' removed\")"
            ]
        },
        {
            "cell_type": "markdown",
            "metadata": {},
            "source": [
                "## Complete Example with Error Handling\n",
                "\n",
                "Here's a more complete example with proper error handling:"
            ]
        },
        {
            "cell_type": "code",
            "execution_count": null,
            "metadata": {},
            "outputs": [],
            "source": [
                "from contextlib import contextmanager\n",
                "\n",
                "@contextmanager\n",
                "def temporary_postgres_db(db_name=\"tempdb\", user=\"tempuser\", password=\"temppass\"):\n",
                "    \"\"\"Create a temporary PostgreSQL database and clean up after use.\"\"\"\n",
                "    # Create temporary directory\n",
                "    temp_dir = Path(tempfile.mkdtemp())\n",
                "    container_name = f\"temp-postgres-{uuid.uuid4().hex[:8]}\"\n",
                "    \n",
                "    # Configure database\n",
                "    config = PostgresConfig(\n",
                "        user=user,\n",
                "        password=password,\n",
                "        database=db_name,\n",
                "        project_name=\"temp\",\n",
                "        workdir=temp_dir,\n",
                "        container_name=container_name,\n",
                "        retries=15,\n",
                "        delay=2\n",
                "    )\n",
                "    \n",
                "    # Create manager\n",
                "    manager = PostgresDB(config)\n",
                "    \n",
                "    try:\n",
                "        # Start the database\n",
                "        manager.create_db()\n",
                "        print(f\"Temporary database started at {config.host}:{config.port}\")\n",
                "        \n",
                "        # Yield the manager and connection info to the caller\n",
                "        yield manager, config\n",
                "        \n",
                "    finally:\n",
                "        # Clean up resources\n",
                "        try:\n",
                "            manager.delete_db()\n",
                "            print(f\"Database container '{container_name}' deleted\")\n",
                "        except Exception as e:\n",
                "            print(f\"Warning: Error deleting database container: {e}\")\n",
                "            \n",
                "        try:\n",
                "            shutil.rmtree(temp_dir)\n",
                "            print(f\"Temporary directory '{temp_dir}' removed\")\n",
                "        except Exception as e:\n",
                "            print(f\"Warning: Error removing temporary directory: {e}\")\n",
                "\n",
                "\n",
                "# Usage example:\n",
                "if __name__ == \"__main__\":\n",
                "    with temporary_postgres_db() as (db_manager, config):\n",
                "        # Connect to database\n",
                "        conn = psycopg2.connect(\n",
                "            host=config.host,\n",
                "            port=config.port,\n",
                "            database=config.database,\n",
                "            user=config.user,\n",
                "            password=config.password\n",
                "        )\n",
                "        \n",
                "        # Create a test table and insert data\n",
                "        with conn.cursor() as cur:\n",
                "            cur.execute(\"CREATE TABLE test (id SERIAL PRIMARY KEY, name TEXT)\")\n",
                "            cur.execute(\"INSERT INTO test (name) VALUES ('test data')\")\n",
                "            conn.commit()\n",
                "            \n",
                "            # Query the data\n",
                "            cur.execute(\"SELECT * FROM test\")\n",
                "            print(cur.fetchall())\n",
                "            \n",
                "        # Close connection\n",
                "        conn.close()"
            ]
        },
        {
            "cell_type": "markdown",
            "metadata": {},
            "source": [
                "## Conclusion\n",
                "\n",
                "This notebook demonstrated how to:\n",
                "\n",
                "1. Configure and create a PostgreSQL database with `PostgresDB`\n",
                "2. Connect to the database using SQL cell magic\n",
                "3. Execute SQL queries on the database\n",
                "4. Clean up the database when finished\n",
                "\n",
                "The `PostgresDB` manager provides a convenient way to spin up PostgreSQL instances in Docker containers for development, testing, or demonstration purposes."
            ]
        }
    ],
    "metadata": {
        "kernelspec": {
            "display_name": ".venv",
            "language": "python",
            "name": "python3"
        },
        "language_info": {
            "codemirror_mode": {
                "name": "ipython",
                "version": 3
            },
            "file_extension": ".py",
            "mimetype": "text/x-python",
            "name": "python",
            "nbconvert_exporter": "python",
            "pygments_lexer": "ipython3",
            "version": "3.12.10"
        }
    },
    "nbformat": 4,
    "nbformat_minor": 4
}
